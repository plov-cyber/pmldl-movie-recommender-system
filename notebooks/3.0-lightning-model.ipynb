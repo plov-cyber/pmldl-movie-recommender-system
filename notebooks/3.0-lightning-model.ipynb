{
 "cells": [
  {
   "cell_type": "markdown",
   "source": [
    "# 3.0 Lightning Model"
   ],
   "metadata": {
    "collapsed": false
   }
  },
  {
   "cell_type": "markdown",
   "source": [
    "## Reading the dataset"
   ],
   "metadata": {
    "collapsed": false
   }
  },
  {
   "cell_type": "code",
   "execution_count": 1,
   "outputs": [
    {
     "data": {
      "text/plain": "   user_id  item_id  rating  timestamp  genderF  genderM  administrator  \\\n0      196      242       3  881250949      0.0      1.0            0.0   \n1      186      302       3  891717742      1.0      0.0            0.0   \n2       22      377       1  878887116      0.0      1.0            0.0   \n3      244       51       2  880606923      0.0      1.0            0.0   \n4      166      346       1  886397596      0.0      1.0            0.0   \n\n   artist  doctor  educator  ...   bert758    bert759    bert760    bert761  \\\n0     0.0     0.0       0.0  ...  3.251692 -13.530388 -10.312185  -6.998366   \n1     0.0     0.0       0.0  ...  2.707056  -7.555910  -6.064218 -12.435462   \n2     0.0     0.0       0.0  ...  6.620211  -2.493063   2.810232  -0.291712   \n3     0.0     0.0       0.0  ...  7.580922  -4.484633  -3.490076  -4.798437   \n4     0.0     0.0       1.0  ... -0.257190  -9.879315  -9.244432  -2.753026   \n\n    bert762    bert763   bert764    bert765   bert766    bert767  \n0 -9.448814   5.635257 -4.803998 -13.263495 -6.194516   2.764816  \n1 -3.103521  -6.400305 -5.741024   4.378481 -0.204317 -10.159966  \n2  1.330938  -0.919351  1.201643  -3.051088 -8.859514 -11.834539  \n3 -7.722100  12.472767 -5.917709   2.336888 -4.631447  -9.188141  \n4 -5.583630  -2.354347 -1.422837   0.573999 -4.508925   0.035419  \n\n[5 rows x 826 columns]",
      "text/html": "<div>\n<style scoped>\n    .dataframe tbody tr th:only-of-type {\n        vertical-align: middle;\n    }\n\n    .dataframe tbody tr th {\n        vertical-align: top;\n    }\n\n    .dataframe thead th {\n        text-align: right;\n    }\n</style>\n<table border=\"1\" class=\"dataframe\">\n  <thead>\n    <tr style=\"text-align: right;\">\n      <th></th>\n      <th>user_id</th>\n      <th>item_id</th>\n      <th>rating</th>\n      <th>timestamp</th>\n      <th>genderF</th>\n      <th>genderM</th>\n      <th>administrator</th>\n      <th>artist</th>\n      <th>doctor</th>\n      <th>educator</th>\n      <th>...</th>\n      <th>bert758</th>\n      <th>bert759</th>\n      <th>bert760</th>\n      <th>bert761</th>\n      <th>bert762</th>\n      <th>bert763</th>\n      <th>bert764</th>\n      <th>bert765</th>\n      <th>bert766</th>\n      <th>bert767</th>\n    </tr>\n  </thead>\n  <tbody>\n    <tr>\n      <th>0</th>\n      <td>196</td>\n      <td>242</td>\n      <td>3</td>\n      <td>881250949</td>\n      <td>0.0</td>\n      <td>1.0</td>\n      <td>0.0</td>\n      <td>0.0</td>\n      <td>0.0</td>\n      <td>0.0</td>\n      <td>...</td>\n      <td>3.251692</td>\n      <td>-13.530388</td>\n      <td>-10.312185</td>\n      <td>-6.998366</td>\n      <td>-9.448814</td>\n      <td>5.635257</td>\n      <td>-4.803998</td>\n      <td>-13.263495</td>\n      <td>-6.194516</td>\n      <td>2.764816</td>\n    </tr>\n    <tr>\n      <th>1</th>\n      <td>186</td>\n      <td>302</td>\n      <td>3</td>\n      <td>891717742</td>\n      <td>1.0</td>\n      <td>0.0</td>\n      <td>0.0</td>\n      <td>0.0</td>\n      <td>0.0</td>\n      <td>0.0</td>\n      <td>...</td>\n      <td>2.707056</td>\n      <td>-7.555910</td>\n      <td>-6.064218</td>\n      <td>-12.435462</td>\n      <td>-3.103521</td>\n      <td>-6.400305</td>\n      <td>-5.741024</td>\n      <td>4.378481</td>\n      <td>-0.204317</td>\n      <td>-10.159966</td>\n    </tr>\n    <tr>\n      <th>2</th>\n      <td>22</td>\n      <td>377</td>\n      <td>1</td>\n      <td>878887116</td>\n      <td>0.0</td>\n      <td>1.0</td>\n      <td>0.0</td>\n      <td>0.0</td>\n      <td>0.0</td>\n      <td>0.0</td>\n      <td>...</td>\n      <td>6.620211</td>\n      <td>-2.493063</td>\n      <td>2.810232</td>\n      <td>-0.291712</td>\n      <td>1.330938</td>\n      <td>-0.919351</td>\n      <td>1.201643</td>\n      <td>-3.051088</td>\n      <td>-8.859514</td>\n      <td>-11.834539</td>\n    </tr>\n    <tr>\n      <th>3</th>\n      <td>244</td>\n      <td>51</td>\n      <td>2</td>\n      <td>880606923</td>\n      <td>0.0</td>\n      <td>1.0</td>\n      <td>0.0</td>\n      <td>0.0</td>\n      <td>0.0</td>\n      <td>0.0</td>\n      <td>...</td>\n      <td>7.580922</td>\n      <td>-4.484633</td>\n      <td>-3.490076</td>\n      <td>-4.798437</td>\n      <td>-7.722100</td>\n      <td>12.472767</td>\n      <td>-5.917709</td>\n      <td>2.336888</td>\n      <td>-4.631447</td>\n      <td>-9.188141</td>\n    </tr>\n    <tr>\n      <th>4</th>\n      <td>166</td>\n      <td>346</td>\n      <td>1</td>\n      <td>886397596</td>\n      <td>0.0</td>\n      <td>1.0</td>\n      <td>0.0</td>\n      <td>0.0</td>\n      <td>0.0</td>\n      <td>1.0</td>\n      <td>...</td>\n      <td>-0.257190</td>\n      <td>-9.879315</td>\n      <td>-9.244432</td>\n      <td>-2.753026</td>\n      <td>-5.583630</td>\n      <td>-2.354347</td>\n      <td>-1.422837</td>\n      <td>0.573999</td>\n      <td>-4.508925</td>\n      <td>0.035419</td>\n    </tr>\n  </tbody>\n</table>\n<p>5 rows × 826 columns</p>\n</div>"
     },
     "execution_count": 1,
     "metadata": {},
     "output_type": "execute_result"
    }
   ],
   "source": [
    "import pandas as pd\n",
    "\n",
    "ratings = pd.read_csv(\"../data/processed/ratings_embeddings.csv\")\n",
    "\n",
    "ratings.head()"
   ],
   "metadata": {
    "collapsed": false,
    "ExecuteTime": {
     "end_time": "2023-12-02T21:18:29.244266Z",
     "start_time": "2023-12-02T21:18:23.332350Z"
    }
   }
  },
  {
   "cell_type": "markdown",
   "source": [
    "## Custom Ratings PyTorch Dataset"
   ],
   "metadata": {
    "collapsed": false
   }
  },
  {
   "cell_type": "code",
   "execution_count": 2,
   "outputs": [],
   "source": [
    "import torch\n",
    "from torch.utils.data import Dataset\n",
    "\n",
    "\n",
    "class RatingsDataset(Dataset):\n",
    "    def __init__(self, ratings):\n",
    "        self.ratings = ratings.sort_values(by=\"timestamp\")\n",
    "        self.X = ratings.drop(columns=[\"rating\", \"user_id\", \"item_id\", \"timestamp\"]).values\n",
    "        self.y = ratings[\"rating\"].values\n",
    "\n",
    "    def split_by_timestamp(self, test_size=0.2):\n",
    "        train = []\n",
    "        test = []\n",
    "\n",
    "        for user_id in self.ratings[\"user_id\"].unique():\n",
    "            user_ratings = self.ratings[self.ratings[\"user_id\"] == user_id]\n",
    "            cutoff = int((1 - test_size) * len(user_ratings))\n",
    "\n",
    "            train_ratings = user_ratings[:cutoff]\n",
    "            test_ratings = user_ratings[cutoff:]\n",
    "\n",
    "            train.append(train_ratings)\n",
    "            test.append(test_ratings)\n",
    "\n",
    "        train = pd.concat(train)\n",
    "        test = pd.concat(test)\n",
    "\n",
    "        return RatingsDataset(train), RatingsDataset(test)\n",
    "\n",
    "    def __len__(self):\n",
    "        return len(self.X)\n",
    "\n",
    "    def __getitem__(self, idx):\n",
    "        user_x = self.X[idx][:29]\n",
    "        movie_x = self.X[idx][29:54]\n",
    "        movie_emb = self.X[idx][54:]\n",
    "\n",
    "        return torch.tensor(user_x, dtype=torch.float32), torch.tensor(movie_x, dtype=torch.float32), torch.tensor(\n",
    "            movie_emb, dtype=torch.float32), torch.tensor(self.y[idx], dtype=torch.float32)"
   ],
   "metadata": {
    "collapsed": false,
    "ExecuteTime": {
     "end_time": "2023-12-02T21:18:30.079203Z",
     "start_time": "2023-12-02T21:18:29.246533Z"
    }
   }
  },
  {
   "cell_type": "code",
   "execution_count": 99,
   "outputs": [],
   "source": [
    "dataset = RatingsDataset(ratings)"
   ],
   "metadata": {
    "collapsed": false,
    "ExecuteTime": {
     "end_time": "2023-12-02T16:14:25.280002Z",
     "start_time": "2023-12-02T16:14:24.179884Z"
    }
   }
  },
  {
   "cell_type": "code",
   "execution_count": 100,
   "outputs": [
    {
     "data": {
      "text/plain": "99990"
     },
     "execution_count": 100,
     "metadata": {},
     "output_type": "execute_result"
    }
   ],
   "source": [
    "len(dataset)"
   ],
   "metadata": {
    "collapsed": false,
    "ExecuteTime": {
     "end_time": "2023-12-02T16:14:25.284486Z",
     "start_time": "2023-12-02T16:14:25.281675Z"
    }
   }
  },
  {
   "cell_type": "code",
   "execution_count": 101,
   "outputs": [
    {
     "data": {
      "text/plain": "(tensor([0., 1., 0., 0., 0., 0., 0., 0., 0., 0., 0., 0., 0., 0., 0., 0., 0., 0.,\n         0., 0., 0., 0., 1., 0., 0., 0., 0., 1., 0.], dtype=torch.float64),\n tensor([0., 0., 0., 0., 1., 0., 0., 0., 0., 0., 0., 0., 0., 0., 0., 0., 0., 0.,\n         0., 0., 0., 0., 0., 0., 1.], dtype=torch.float64),\n tensor([-1.2093e+00, -9.4609e+00, -7.0008e+00, -2.4927e+00,  1.5311e+01,\n          7.4154e+00,  4.1028e+00, -1.3728e+01, -3.1330e+00,  9.8207e+00,\n          1.0465e+00, -2.4455e+00, -6.0776e+00,  5.8178e+00,  1.7109e+00,\n          1.3028e+01,  1.2523e+00, -2.6720e+00, -7.1206e+00,  6.3826e-01,\n         -1.0170e+01, -1.4948e+00, -6.9752e+00, -3.6432e-01,  1.3334e+00,\n          8.5042e+00, -5.5536e+00,  1.6076e+01, -5.0209e+00, -6.2281e+00,\n         -1.8277e+00, -2.9855e+00,  1.2198e+01, -9.5139e-01,  1.6099e+01,\n          1.3551e+00,  6.3198e+00,  6.3633e+00, -6.7766e+00, -8.6125e+00,\n          5.8217e+00, -1.7049e+00,  3.1095e+00, -6.6495e+00,  1.0072e+01,\n          1.9901e+00, -1.1685e+01,  3.5661e+00, -2.2065e+00, -7.8507e+00,\n         -1.0358e-01,  2.1095e+00,  4.6523e+00, -1.1335e+01,  3.7132e+00,\n          8.9304e+00,  9.5295e+00, -9.0516e+00, -6.3406e+00,  5.0221e+00,\n         -1.1547e-01,  6.2892e+00, -7.7530e-01, -9.7572e+00,  2.6222e-01,\n          5.3764e+00,  1.5341e+00,  1.5426e+01, -5.7510e+00,  3.4214e+00,\n          1.0332e+00,  1.1089e+01,  3.0275e-01,  5.9892e+00, -3.3678e-01,\n         -9.1901e+00, -5.0637e-01,  1.5004e+01, -7.4200e+00, -4.2662e+00,\n          6.3591e+00,  1.4849e+01,  2.5379e+00,  6.6873e+00, -4.2921e+00,\n          2.8783e-01,  2.3528e+00, -4.3816e+00, -8.4142e-01, -1.3634e+00,\n         -8.9476e+00, -2.0779e+01, -2.5690e-01,  1.4561e+01,  1.1326e+01,\n          4.4241e+00, -1.4842e+01,  7.0469e+00,  2.3123e+00, -9.4665e+00,\n          5.6788e+00, -1.1039e+01, -8.9718e+00, -1.3178e+01,  9.2094e-01,\n          5.7697e+00,  3.9257e+00,  7.8934e+00,  7.9879e+00, -1.2965e+01,\n         -1.1023e+00,  1.0354e+01, -9.7045e+00,  5.1175e-01,  8.6705e-02,\n          1.7924e+00, -4.6408e+00,  9.1616e+00,  2.0777e+00, -1.1913e+00,\n          2.2119e+00,  9.8442e-01,  5.0251e+00,  1.9464e+01,  5.2715e+00,\n         -8.8116e+00, -7.8285e+00,  6.4386e+00,  4.6271e+00,  1.6531e+01,\n          7.6904e+00, -1.9798e+00, -1.6952e+01,  8.0751e+00,  3.9722e+00,\n          8.8656e+00,  7.9631e+00,  4.8057e+00, -1.7664e+01, -5.1821e+00,\n         -3.1687e+01,  1.3975e+01, -1.9398e+01, -2.6705e+00,  1.7501e+01,\n         -3.4274e+00, -2.5902e+00,  1.6748e+01,  1.4777e+00, -4.2255e+00,\n         -5.6701e+00,  1.1560e+01, -8.8394e+00, -2.5279e+00, -1.9030e+01,\n         -1.9595e+00,  2.8572e-01,  7.8478e+00,  6.7301e-01, -2.4659e-02,\n          8.3150e+00,  1.4804e+01,  1.7186e+00, -6.0810e+00, -7.6750e+00,\n         -3.2664e+00, -9.8474e-01,  8.7781e+00,  1.9200e-01, -9.6477e+00,\n          9.8429e+00, -3.3136e+00, -9.7916e-01,  5.4339e+00,  3.4130e+00,\n          5.4020e+00, -2.2335e+00,  1.3758e+01,  4.1538e+00,  3.7738e+00,\n         -3.4193e+01, -6.5440e+00,  1.4859e+00,  3.3529e+00,  8.8347e+00,\n          1.2165e+01,  1.1191e+01, -7.7660e+00, -1.1989e+00,  1.3561e+00,\n          1.4454e+00,  2.0708e+00, -1.2508e+01, -5.9106e-01,  1.0915e+00,\n         -4.1764e+00, -2.2671e-01, -2.2871e+01, -2.2122e+00, -3.1007e+00,\n          6.7437e-01, -1.6215e+01, -9.4131e+00,  3.0419e+00, -5.7530e+00,\n          7.6227e+00, -4.9757e+00, -6.0527e+00, -6.1203e+00, -3.3174e+00,\n         -2.1258e+00, -6.8612e+00, -4.8667e+00, -5.0223e-01,  5.9310e+00,\n          6.8022e+00, -2.3005e+00, -5.0435e-02,  3.7838e+00, -3.7594e+00,\n          1.0920e+00, -1.6396e+00, -1.1422e+01,  2.4194e+00,  4.6190e+00,\n          2.9973e+01,  1.7129e+01, -2.2100e+00,  5.7336e+00,  1.1947e+00,\n         -3.8896e+00,  5.9824e-01,  2.7418e+00, -1.2148e+00, -1.5422e+01,\n          7.7931e+00,  4.5865e+00,  3.9411e-01,  1.1893e+00, -3.5447e+00,\n         -4.2332e+00,  1.8242e+00,  1.8506e+01,  1.2826e+01,  1.1798e+00,\n          5.0887e+00,  6.1267e+00, -3.1107e+00, -1.1443e+01, -5.2230e+00,\n         -2.5070e+00,  3.4551e+00, -1.6085e+00, -4.8471e+00,  8.7525e-01,\n         -3.4426e+00,  4.5228e-01, -1.0692e+01, -7.4328e-01, -1.3447e+01,\n          1.1592e+01, -1.9278e+00,  2.0528e+01, -2.4734e+00,  3.0531e-01,\n         -8.3628e+00, -7.8931e+00, -5.6618e+00, -2.6368e+00, -1.8307e+01,\n         -1.3084e+01,  2.2111e+00, -3.1581e+00,  7.0192e+00, -1.0853e+01,\n         -2.7422e+00,  4.9863e+00, -2.3957e+00, -2.6121e+00, -1.1729e+01,\n          3.5161e+00,  4.8470e+00,  3.2255e+00,  1.2962e+01, -7.5158e+00,\n         -4.3862e+00, -1.0422e+01, -5.5374e+00, -1.8873e+00, -1.2528e+01,\n         -1.4959e+01,  6.6982e+00, -8.1107e+00, -1.1545e+01,  1.1411e+01,\n          4.8708e+00, -5.7194e+00, -2.1432e-01, -4.7538e+00,  1.1119e+00,\n         -8.1257e+00, -2.7716e+00,  7.1191e+00,  8.0220e+00,  1.4724e+01,\n          4.8262e+00,  4.0635e+00,  5.7255e+00, -1.1374e+02, -6.2410e+00,\n          7.3756e+00, -3.9561e+00,  1.8667e+01, -1.2416e+01,  3.1765e+00,\n         -2.3809e+00, -5.5572e+00, -7.9737e+00, -1.2311e+01,  1.0182e+00,\n          9.5629e-02, -3.4768e+00,  3.4617e+00, -1.2723e+01, -6.6811e+00,\n         -1.0694e+01,  2.2974e+00,  9.5259e+00, -2.3408e+00, -9.2748e+00,\n         -2.1329e+00, -9.4750e+00,  6.4068e-01,  3.7574e+00,  8.2490e-01,\n          5.9614e+00, -2.9281e+01, -8.3879e+00, -1.3540e+01, -1.3931e+01,\n          7.7993e+00,  5.4099e+00, -8.6555e+00,  1.2513e+00, -1.6694e+01,\n         -1.4750e+01,  7.1124e+00, -9.4955e-01, -8.1360e+00,  1.5372e+00,\n          1.1232e+01,  1.9052e+00,  1.8550e+01, -1.5369e+01,  6.6538e+00,\n         -7.5277e+00, -8.8306e+00,  7.2234e+00,  1.0167e+01, -5.4795e+00,\n          9.0928e+00, -4.6748e+00,  6.0947e+00,  3.1545e-01,  9.7199e+00,\n          1.3676e+00,  4.4633e+00,  1.4849e+00,  6.6691e+00, -2.7407e+00,\n          2.6237e+00,  1.0703e+00, -4.6771e+00,  2.5515e+00, -4.2535e-01,\n         -1.3882e+01, -1.7217e-01,  3.0200e+00,  1.0924e+00,  1.7801e+01,\n          6.3279e+00, -8.9875e+01, -3.4356e+00,  4.6796e+00, -9.2000e+00,\n          2.0163e+00, -6.3739e+00,  4.9021e+00, -1.5730e+01, -6.6926e+00,\n         -5.3433e+00,  7.1036e+00, -9.4616e+00, -5.3887e+00,  3.3824e+00,\n         -5.5422e+00, -8.4587e+00, -4.5389e+00,  7.5802e+00,  2.5072e+00,\n          7.7490e+00,  3.9002e+00, -4.4301e+00,  9.4038e-01,  1.3039e+01,\n         -5.2513e+00,  1.6959e+01, -2.8849e+00,  9.5221e-01, -1.3283e+01,\n          1.4093e+01, -5.9244e+00,  6.1415e+00, -7.3833e+00, -9.0532e+00,\n          7.5884e+00,  3.0088e+00, -9.1261e+00,  9.9460e+00, -1.8676e+00,\n          1.3028e+00, -1.3387e+01, -9.2873e+00, -2.1692e+00,  1.0241e+01,\n         -1.8069e+00, -8.6796e+00,  2.5575e+00, -1.8082e+01,  5.5895e+00,\n         -5.6177e+00, -1.6512e+01,  6.0372e+00,  9.5000e+00, -2.0122e+00,\n          1.0204e+00, -4.1786e+00,  3.9977e+00,  1.5211e+00, -5.1325e+00,\n          3.3874e-01, -1.8256e+01, -2.2281e+00, -8.1261e+00, -2.1630e+00,\n         -3.2770e+00,  3.0384e-02,  2.1065e+00,  2.7865e+00, -3.7176e+00,\n          4.5717e+00,  8.2210e+00, -7.1695e+00, -1.1028e+01, -6.4349e+00,\n          6.5151e-01,  9.2523e+00,  6.3034e+00, -5.8658e+00, -5.3714e+00,\n          1.2881e+01, -5.3333e+00,  4.4699e+00, -3.4142e+00,  1.4545e+01,\n         -1.5144e+01, -8.5530e+00, -4.3304e+00, -5.8226e+00, -1.1529e+01,\n         -6.2116e+00, -3.6176e+00, -3.9434e-01,  8.0263e+00, -1.1046e+01,\n          9.3004e+00, -8.1020e-01,  9.1267e+00, -7.0856e+00,  1.3819e+00,\n         -3.7645e+00,  7.8823e+00, -7.7432e+00,  3.8703e+00, -7.1701e+00,\n         -1.2465e+01, -7.8127e+00,  1.1819e+01, -7.2813e+00, -4.3232e+00,\n         -1.1214e+01,  5.4379e+00,  7.7909e+00,  3.7310e+00, -4.2415e+00,\n         -1.2016e+01,  9.3192e+00,  6.8202e+00, -1.5189e+01,  6.6832e+00,\n          6.1379e+00, -1.3924e+01, -1.4320e+01, -1.2435e+01,  9.1083e+00,\n         -2.4061e-01,  9.1726e+00,  1.7174e+01,  6.5528e+00, -7.1415e+00,\n          1.4861e+01, -1.8060e+00, -9.8290e+00,  5.6286e+00,  1.0846e+01,\n          1.6585e+01, -6.7285e-01, -1.3200e+01, -2.1771e+00, -1.3800e+01,\n         -6.5841e+00, -1.7049e+00, -6.0593e+00,  1.3962e+01,  2.4526e+00,\n         -5.7674e+00, -2.3677e+01,  1.2634e+00, -1.7892e+01, -7.7607e+00,\n          7.2019e+00,  4.2802e+00, -1.4374e+01,  6.8219e-01,  1.1264e+00,\n         -1.3144e+01, -1.8045e+01,  9.3669e+00, -6.9688e-01, -1.9796e+01,\n         -5.0046e-01, -6.3383e-01,  5.0831e+00, -4.0449e+00, -1.1145e+00,\n         -8.0135e+00, -4.3987e+00,  9.8014e+00,  7.6535e+00, -1.2427e+01,\n         -5.5188e+00,  5.1896e+00,  8.8390e+00,  2.8449e+00, -6.9214e+00,\n         -6.6968e+00,  4.6218e+00, -6.4811e+00,  2.2441e+00, -3.8333e+00,\n         -6.4329e+00, -2.6595e+00,  5.4055e+00, -7.0489e+00, -4.6619e+00,\n         -4.0659e+00,  4.2064e+00,  9.9787e+00, -4.0093e+00,  2.8617e+00,\n          3.4086e+00, -5.2051e+00,  1.7019e+00, -3.9806e+00,  2.3245e+01,\n          9.8914e+00,  5.9785e+00,  1.1173e+00,  5.9649e+00, -6.8453e+00,\n          6.8749e+00,  2.3092e+00, -2.0250e+01, -1.6242e+00, -5.8255e+00,\n         -7.3309e+00,  8.0305e+00, -1.9135e+00, -2.8564e+00,  1.6200e+01,\n         -1.1096e+01, -3.2890e+00, -5.0061e+00, -4.2392e+00, -4.7636e+00,\n          9.4690e-02, -3.2517e+00,  3.8048e+00,  1.5597e+01,  1.0151e+00,\n         -1.6446e+00,  1.5093e+00, -3.3134e+00, -2.8472e+00,  1.1333e+01,\n          7.9552e+00, -1.4522e+01,  1.8245e+00,  1.1480e+01,  3.9722e+00,\n         -4.6997e+00,  1.3297e+01, -5.1571e+00, -2.2764e+00, -3.2185e+00,\n         -9.7553e+00,  4.4484e+00,  8.9823e+00,  1.2278e+01, -6.2949e-01,\n          1.7149e+01,  2.2125e+01,  1.8250e+01, -7.6075e-01, -6.2449e-01,\n         -1.4090e+00,  3.5391e+00, -6.2513e+00,  3.6832e+00, -6.1676e-01,\n          8.9941e+00,  1.2788e+01, -8.5141e+00, -1.4305e+00, -6.1525e+00,\n         -6.6657e+00, -6.7387e+00,  3.9000e+00,  3.9132e-01,  4.9290e+00,\n          1.9703e+01, -8.3655e-01,  1.4462e+01,  7.7210e+00,  7.9426e+00,\n          1.3430e+00,  2.1348e+01,  1.3927e+00, -4.7690e+00, -1.2425e+01,\n          4.0486e+00,  1.1290e+01,  9.5781e+00, -4.1835e+00,  3.6708e+00,\n          1.2602e+00,  4.3155e+00,  1.1000e+00, -3.6761e-01,  5.2803e+00,\n          2.1029e+00,  3.2590e+00, -4.0533e+00, -3.3966e+00,  6.1782e-01,\n         -8.0591e+00,  9.8581e+00, -4.8019e+00, -3.8429e+00, -1.1324e+01,\n         -1.4101e+00,  1.9526e+00,  9.8202e-01,  1.0002e+01,  4.4016e+00,\n         -2.0622e+00, -8.2901e-01, -8.0760e+00,  2.9045e+00,  4.1805e+00,\n          3.8847e+00,  7.3476e+00,  1.5888e+01, -6.1600e+00, -2.3728e+00,\n         -1.0994e+00,  3.8739e+00, -5.6179e+00, -6.8475e-01, -1.9946e+00,\n         -1.8440e+00, -5.5177e+00, -3.7076e-01, -5.5713e+00,  5.2398e+00,\n         -9.9328e+00,  2.0882e+00, -1.4446e+01,  2.8429e+00,  3.4649e+00,\n          7.5679e+00,  5.6446e+00, -8.4292e+00, -6.1202e+00, -6.5956e+00,\n         -1.0971e-01, -9.7729e-01,  3.2534e+00,  7.2684e+00, -9.9367e+00,\n         -1.8581e+01, -3.0309e-02, -4.8125e+00, -1.6063e-01, -1.9125e+00,\n          2.2411e+01, -4.6342e+00, -9.0830e+00, -4.2910e+00,  1.3736e+00,\n         -1.4701e+01,  1.1666e+01,  6.6556e+00, -4.3568e+00,  9.2766e+00,\n          1.1636e-01, -4.4719e-01,  1.4780e+00, -4.8835e+00, -8.8429e+00,\n          1.0510e+01,  9.3366e+00, -5.3327e+00, -6.2845e+00, -5.9078e+00,\n          2.4068e+00, -2.6483e+00, -5.3133e+00,  3.6431e+00,  1.0898e+01,\n          4.8810e+00,  1.6049e+00, -8.9564e+00,  9.3879e+00,  1.5677e+01,\n          7.2729e-01, -5.0549e+00, -1.4758e+01, -4.2466e+00,  1.0937e+01,\n         -6.2038e+00,  9.2557e+00, -1.5885e+01, -1.0440e+01,  2.5765e+00,\n         -2.2955e+00, -1.0309e+01,  1.7976e+00,  3.2517e+00, -1.3530e+01,\n         -1.0312e+01, -6.9984e+00, -9.4488e+00,  5.6353e+00, -4.8040e+00,\n         -1.3263e+01, -6.1945e+00,  2.7648e+00], dtype=torch.float64),\n tensor(3))"
     },
     "execution_count": 101,
     "metadata": {},
     "output_type": "execute_result"
    }
   ],
   "source": [
    "dataset[0]"
   ],
   "metadata": {
    "collapsed": false,
    "ExecuteTime": {
     "end_time": "2023-12-02T16:14:25.506147Z",
     "start_time": "2023-12-02T16:14:25.481312Z"
    }
   }
  },
  {
   "cell_type": "markdown",
   "source": [
    "## Custom Ratings Lightning Data Module"
   ],
   "metadata": {
    "collapsed": false
   }
  },
  {
   "cell_type": "code",
   "execution_count": 3,
   "outputs": [],
   "source": [
    "import pytorch_lightning as pl\n",
    "from torch.utils.data import DataLoader\n",
    "\n",
    "\n",
    "class RatingsDataModule(pl.LightningDataModule):\n",
    "    def __init__(self, ratings, batch_size=512):\n",
    "        super().__init__()\n",
    "        self.ratings = ratings\n",
    "        self.batch_size = batch_size\n",
    "\n",
    "    def prepare_data(self) -> None:\n",
    "        self.dataset = RatingsDataset(self.ratings)\n",
    "\n",
    "    def setup(self, stage: str = None) -> None:\n",
    "        self.train, self.test = self.dataset.split_by_timestamp(test_size=0.2)\n",
    "        self.train, self.val = self.train.split_by_timestamp(test_size=0.1)\n",
    "\n",
    "    def train_dataloader(self):\n",
    "        return DataLoader(self.train, batch_size=self.batch_size, shuffle=True)\n",
    "\n",
    "    def val_dataloader(self):\n",
    "        return DataLoader(self.val, batch_size=self.batch_size)\n",
    "\n",
    "    def test_dataloader(self):\n",
    "        return DataLoader(self.test, batch_size=self.batch_size)"
   ],
   "metadata": {
    "collapsed": false,
    "ExecuteTime": {
     "end_time": "2023-12-02T21:18:30.810597Z",
     "start_time": "2023-12-02T21:18:30.079671Z"
    }
   }
  },
  {
   "cell_type": "code",
   "execution_count": 4,
   "outputs": [],
   "source": [
    "dm = RatingsDataModule(ratings)"
   ],
   "metadata": {
    "collapsed": false,
    "ExecuteTime": {
     "end_time": "2023-12-02T17:41:43.359678Z",
     "start_time": "2023-12-02T17:41:43.353422Z"
    }
   }
  },
  {
   "cell_type": "code",
   "execution_count": 5,
   "outputs": [],
   "source": [
    "dm.prepare_data()\n",
    "dm.setup()"
   ],
   "metadata": {
    "collapsed": false,
    "ExecuteTime": {
     "end_time": "2023-12-02T17:41:45.143493Z",
     "start_time": "2023-12-02T17:41:43.787624Z"
    }
   }
  },
  {
   "cell_type": "code",
   "execution_count": 105,
   "outputs": [
    {
     "name": "stdout",
     "output_type": "stream",
     "text": [
      "[tensor([[1., 0., 0.,  ..., 0., 1., 0.],\n",
      "        [1., 0., 1.,  ..., 0., 0., 0.],\n",
      "        [0., 1., 0.,  ..., 0., 0., 0.],\n",
      "        ...,\n",
      "        [1., 0., 0.,  ..., 0., 0., 0.],\n",
      "        [0., 1., 0.,  ..., 1., 0., 0.],\n",
      "        [0., 1., 0.,  ..., 1., 0., 0.]], dtype=torch.float64), tensor([[0., 0., 0.,  ..., 0., 0., 1.],\n",
      "        [0., 0., 0.,  ..., 0., 0., 0.],\n",
      "        [0., 0., 0.,  ..., 0., 0., 0.],\n",
      "        ...,\n",
      "        [0., 0., 0.,  ..., 0., 0., 1.],\n",
      "        [0., 0., 0.,  ..., 1., 0., 0.],\n",
      "        [0., 0., 0.,  ..., 0., 0., 1.]], dtype=torch.float64), tensor([[  4.1059, -13.2828,   9.7087,  ...,  -1.0607,   0.2521, -11.8400],\n",
      "        [ -5.3339,  -8.6409,  -4.9538,  ...,  -8.8279,  -4.9336,  -5.7422],\n",
      "        [  3.9823,  -7.9771,  -2.6021,  ...,   0.6699,  -2.5948,  -6.2313],\n",
      "        ...,\n",
      "        [ -0.3739,  -9.1208, -11.6039,  ...,   0.5755,   2.2956,  -8.5993],\n",
      "        [ -3.3991,  -5.8463,   7.3678,  ...,  -5.8676,  -2.5343,  -1.6357],\n",
      "        [-11.0513, -14.7060,   1.0364,  ...,  -2.7781,  -5.9613, -15.7962]],\n",
      "       dtype=torch.float64), tensor([1, 4, 2, 5, 2, 3, 2, 3, 4, 4, 4, 4, 3, 3, 4, 3, 4, 5, 4, 4, 4, 5, 4, 2,\n",
      "        3, 3, 4, 1, 3, 4, 4, 4, 5, 3, 4, 1, 5, 4, 3, 5, 4, 5, 3, 3, 5, 3, 3, 3,\n",
      "        2, 3, 2, 3, 5, 2, 3, 4, 4, 4, 2, 5, 5, 5, 3, 4, 5, 4, 4, 3, 4, 3, 3, 5,\n",
      "        5, 5, 4, 2, 5, 5, 5, 2, 3, 5, 3, 1, 2, 3, 3, 5, 4, 4, 3, 3, 3, 5, 3, 2,\n",
      "        1, 3, 4, 4, 3, 4, 3, 5, 4, 5, 5, 2, 1, 3, 4, 2, 3, 5, 1, 4, 3, 5, 5, 1,\n",
      "        5, 4, 5, 4, 4, 5, 2, 4, 2, 3, 4, 2, 5, 3, 4, 4, 5, 2, 4, 1, 5, 4, 4, 3,\n",
      "        4, 3, 2, 5, 4, 4, 3, 3, 4, 4, 3, 5, 4, 4, 5, 4, 1, 4, 3, 2, 4, 4, 4, 5,\n",
      "        3, 4, 4, 5, 3, 4, 5, 3, 4, 5, 2, 4, 3, 3, 4, 3, 3, 3, 5, 5, 3, 2, 4, 2,\n",
      "        4, 2, 5, 4, 2, 3, 4, 5, 3, 3, 2, 5, 4, 5, 5, 5, 3, 2, 5, 2, 3, 4, 4, 4,\n",
      "        3, 5, 2, 5, 5, 4, 3, 5, 4, 4, 5, 4, 1, 3, 1, 3, 3, 4, 3, 2, 5, 5, 5, 4,\n",
      "        5, 5, 2, 5, 1, 3, 3, 4, 3, 3, 3, 3, 3, 4, 3, 4, 1, 2, 2, 5, 5, 3, 3, 2,\n",
      "        2, 5, 3, 2, 4, 2, 1, 3, 3, 1, 4, 4, 3, 3, 3, 2, 1, 3, 4, 3, 3, 3, 1, 5,\n",
      "        3, 5, 3, 2, 3, 3, 4, 5, 4, 4, 4, 3, 4, 4, 2, 1, 3, 3, 3, 3, 5, 3, 4, 4,\n",
      "        1, 2, 3, 5, 2, 4, 1, 2, 3, 5, 4, 3, 4, 5, 4, 5, 4, 2, 5, 3, 5, 5, 4, 1,\n",
      "        1, 2, 5, 5, 5, 5, 5, 5, 4, 5, 1, 4, 5, 3, 2, 4, 4, 4, 5, 4, 4, 2, 1, 4,\n",
      "        4, 4, 5, 4, 4, 3, 3, 4, 5, 5, 4, 5, 5, 3, 1, 4, 1, 3, 5, 2, 3, 4, 5, 3,\n",
      "        4, 3, 3, 3, 4, 4, 5, 3, 3, 2, 2, 3, 4, 1, 4, 3, 4, 5, 3, 2, 2, 5, 3, 3,\n",
      "        4, 5, 4, 3, 3, 4, 1, 4, 3, 3, 5, 4, 4, 3, 1, 4, 2, 4, 5, 4, 5, 3, 4, 3,\n",
      "        5, 2, 4, 5, 3, 4, 4, 3, 3, 4, 3, 1, 4, 3, 2, 3, 5, 4, 4, 2, 4, 5, 5, 5,\n",
      "        4, 3, 2, 4, 4, 5, 5, 4, 3, 3, 5, 3, 5, 4, 4, 5, 2, 5, 3, 4, 3, 4, 3, 3,\n",
      "        5, 5, 2, 5, 3, 1, 2, 4, 5, 4, 3, 4, 3, 1, 3, 3, 3, 4, 3, 3, 5, 3, 5, 4,\n",
      "        5, 5, 4, 5, 4, 1, 2, 4])]\n"
     ]
    }
   ],
   "source": [
    "for batch in dm.train_dataloader():\n",
    "    print(batch)\n",
    "    break"
   ],
   "metadata": {
    "collapsed": false,
    "ExecuteTime": {
     "end_time": "2023-12-02T16:14:37.901605Z",
     "start_time": "2023-12-02T16:14:37.842661Z"
    }
   }
  },
  {
   "cell_type": "markdown",
   "source": [
    "## Lightning Module with Linear Model"
   ],
   "metadata": {
    "collapsed": false
   }
  },
  {
   "cell_type": "code",
   "execution_count": 4,
   "outputs": [],
   "source": [
    "import torch.nn as nn\n",
    "import torch.nn.functional as F\n",
    "import pytorch_lightning as pl\n",
    "\n",
    "\n",
    "class LinearModel(pl.LightningModule):\n",
    "    def __init__(self, user_dim, movie_dim, emb_dim, output_dim, lr=1e-3):\n",
    "        super().__init__()\n",
    "        self.save_hyperparameters()\n",
    "\n",
    "        self.lr = lr\n",
    "\n",
    "        self.user_dim = user_dim\n",
    "        self.movie_dim = movie_dim\n",
    "        self.emb_dim = emb_dim\n",
    "        self.output_dim = output_dim\n",
    "\n",
    "        self.movie_emb_linear = nn.Linear(self.emb_dim, 128)\n",
    "\n",
    "        self.final_linear = nn.Linear(128 + 54, self.output_dim)\n",
    "\n",
    "        self.batchnorm_emb = nn.BatchNorm1d(self.emb_dim)\n",
    "        self.dropout = nn.Dropout(0.2)\n",
    "\n",
    "    def forward(self, x):\n",
    "        user_x, movie_x, movie_emb = x\n",
    "\n",
    "        movie_emb = self.batchnorm_emb(movie_emb)\n",
    "        movie_emb = F.relu(self.movie_emb_linear(movie_emb))\n",
    "        movie_emb = self.dropout(movie_emb)\n",
    "\n",
    "        output = self.final_linear(torch.cat((user_x, movie_x, movie_emb), dim=1))\n",
    "\n",
    "        return output\n",
    "\n",
    "    def training_step(self, batch, batch_idx):\n",
    "        x = batch[:-1]\n",
    "        y = batch[-1]\n",
    "\n",
    "        y_hat = self(x)\n",
    "\n",
    "        loss = F.mse_loss(y_hat, y.unsqueeze(1))\n",
    "\n",
    "        self.log_dict({\"train_loss\": loss ** 0.5}, prog_bar=True, on_epoch=True)\n",
    "        return loss\n",
    "\n",
    "    def validation_step(self, batch, batch_idx):\n",
    "        x = batch[:-1]\n",
    "        y = batch[-1]\n",
    "\n",
    "        y_hat = self(x)\n",
    "\n",
    "        loss = F.mse_loss(y_hat, y.unsqueeze(1))\n",
    "\n",
    "        self.log_dict({\"val_loss\": loss ** 0.5}, prog_bar=True, on_epoch=True)\n",
    "\n",
    "    def test_step(self, batch, batch_idx):\n",
    "        x = batch[:-1]\n",
    "        y = batch[-1]\n",
    "\n",
    "        y_hat = self(x)\n",
    "\n",
    "        loss = F.mse_loss(y_hat, y.unsqueeze(1))\n",
    "\n",
    "        self.log_dict({\"test_loss\": loss ** 0.5}, prog_bar=True, on_epoch=True)\n",
    "\n",
    "    def configure_optimizers(self):\n",
    "        return torch.optim.Adam(self.parameters(), lr=self.lr)"
   ],
   "metadata": {
    "collapsed": false,
    "ExecuteTime": {
     "end_time": "2023-12-02T21:18:30.820236Z",
     "start_time": "2023-12-02T21:18:30.815411Z"
    }
   }
  },
  {
   "cell_type": "code",
   "execution_count": 5,
   "outputs": [],
   "source": [
    "dm = RatingsDataModule(ratings)"
   ],
   "metadata": {
    "collapsed": false,
    "ExecuteTime": {
     "end_time": "2023-12-02T21:18:30.820334Z",
     "start_time": "2023-12-02T21:18:30.818043Z"
    }
   }
  },
  {
   "cell_type": "code",
   "execution_count": 6,
   "outputs": [],
   "source": [
    "model = LinearModel(user_dim=29, movie_dim=25, emb_dim=768, output_dim=1, lr=0.0005)"
   ],
   "metadata": {
    "collapsed": false,
    "ExecuteTime": {
     "end_time": "2023-12-02T21:18:30.824221Z",
     "start_time": "2023-12-02T21:18:30.821352Z"
    }
   }
  },
  {
   "cell_type": "code",
   "execution_count": 7,
   "outputs": [
    {
     "name": "stderr",
     "output_type": "stream",
     "text": [
      "GPU available: True (mps), used: False\n",
      "TPU available: False, using: 0 TPU cores\n",
      "IPU available: False, using: 0 IPUs\n",
      "HPU available: False, using: 0 HPUs\n",
      "/opt/homebrew/Caskroom/miniforge/base/envs/pmldl-movie-recommender-system/lib/python3.9/site-packages/pytorch_lightning/trainer/setup.py:187: GPU available but not used. You can set it by doing `Trainer(accelerator='gpu')`.\n",
      "\n",
      "  | Name             | Type        | Params\n",
      "-------------------------------------------------\n",
      "0 | movie_emb_linear | Linear      | 98.4 K\n",
      "1 | final_linear     | Linear      | 183   \n",
      "2 | batchnorm_emb    | BatchNorm1d | 1.5 K \n",
      "3 | dropout          | Dropout     | 0     \n",
      "-------------------------------------------------\n",
      "100 K     Trainable params\n",
      "0         Non-trainable params\n",
      "100 K     Total params\n",
      "0.401     Total estimated model params size (MB)\n"
     ]
    },
    {
     "data": {
      "text/plain": "Sanity Checking: |          | 0/? [00:00<?, ?it/s]",
      "application/vnd.jupyter.widget-view+json": {
       "version_major": 2,
       "version_minor": 0,
       "model_id": "744c4e3899584d2693662b7e8e42fcf8"
      }
     },
     "metadata": {},
     "output_type": "display_data"
    },
    {
     "name": "stderr",
     "output_type": "stream",
     "text": [
      "/opt/homebrew/Caskroom/miniforge/base/envs/pmldl-movie-recommender-system/lib/python3.9/site-packages/pytorch_lightning/trainer/connectors/data_connector.py:441: The 'val_dataloader' does not have many workers which may be a bottleneck. Consider increasing the value of the `num_workers` argument` to `num_workers=7` in the `DataLoader` to improve performance.\n",
      "/opt/homebrew/Caskroom/miniforge/base/envs/pmldl-movie-recommender-system/lib/python3.9/site-packages/pytorch_lightning/trainer/connectors/data_connector.py:441: The 'train_dataloader' does not have many workers which may be a bottleneck. Consider increasing the value of the `num_workers` argument` to `num_workers=7` in the `DataLoader` to improve performance.\n"
     ]
    },
    {
     "data": {
      "text/plain": "Training: |          | 0/? [00:00<?, ?it/s]",
      "application/vnd.jupyter.widget-view+json": {
       "version_major": 2,
       "version_minor": 0,
       "model_id": "1a6c3b4e1aee43318e50cf4340f3417a"
      }
     },
     "metadata": {},
     "output_type": "display_data"
    },
    {
     "data": {
      "text/plain": "Validation: |          | 0/? [00:00<?, ?it/s]",
      "application/vnd.jupyter.widget-view+json": {
       "version_major": 2,
       "version_minor": 0,
       "model_id": "defb847fc77a4c52bac23be6824e5637"
      }
     },
     "metadata": {},
     "output_type": "display_data"
    },
    {
     "data": {
      "text/plain": "Validation: |          | 0/? [00:00<?, ?it/s]",
      "application/vnd.jupyter.widget-view+json": {
       "version_major": 2,
       "version_minor": 0,
       "model_id": "74ece1a67eb74b228fd84e843b549e79"
      }
     },
     "metadata": {},
     "output_type": "display_data"
    },
    {
     "data": {
      "text/plain": "Validation: |          | 0/? [00:00<?, ?it/s]",
      "application/vnd.jupyter.widget-view+json": {
       "version_major": 2,
       "version_minor": 0,
       "model_id": "7df4218737c44ee6bffeb9c7c070fedc"
      }
     },
     "metadata": {},
     "output_type": "display_data"
    },
    {
     "data": {
      "text/plain": "Validation: |          | 0/? [00:00<?, ?it/s]",
      "application/vnd.jupyter.widget-view+json": {
       "version_major": 2,
       "version_minor": 0,
       "model_id": "18a40a2b73fe4162ae88f1cbb3f283cf"
      }
     },
     "metadata": {},
     "output_type": "display_data"
    },
    {
     "data": {
      "text/plain": "Validation: |          | 0/? [00:00<?, ?it/s]",
      "application/vnd.jupyter.widget-view+json": {
       "version_major": 2,
       "version_minor": 0,
       "model_id": "f33d092e7fc24a0fb3377c0440c1e704"
      }
     },
     "metadata": {},
     "output_type": "display_data"
    },
    {
     "data": {
      "text/plain": "Validation: |          | 0/? [00:00<?, ?it/s]",
      "application/vnd.jupyter.widget-view+json": {
       "version_major": 2,
       "version_minor": 0,
       "model_id": "7d90a8cbae9a4d7083d8fa58bb410c78"
      }
     },
     "metadata": {},
     "output_type": "display_data"
    },
    {
     "data": {
      "text/plain": "Validation: |          | 0/? [00:00<?, ?it/s]",
      "application/vnd.jupyter.widget-view+json": {
       "version_major": 2,
       "version_minor": 0,
       "model_id": "73e1961b99684a13857be1c1f5ac73f5"
      }
     },
     "metadata": {},
     "output_type": "display_data"
    },
    {
     "data": {
      "text/plain": "Validation: |          | 0/? [00:00<?, ?it/s]",
      "application/vnd.jupyter.widget-view+json": {
       "version_major": 2,
       "version_minor": 0,
       "model_id": "7c0d79713b6f4d32a4d9c9aeaae3d01a"
      }
     },
     "metadata": {},
     "output_type": "display_data"
    },
    {
     "data": {
      "text/plain": "Validation: |          | 0/? [00:00<?, ?it/s]",
      "application/vnd.jupyter.widget-view+json": {
       "version_major": 2,
       "version_minor": 0,
       "model_id": "1adc7781caa44ec3bbd942f0dff707c4"
      }
     },
     "metadata": {},
     "output_type": "display_data"
    },
    {
     "data": {
      "text/plain": "Validation: |          | 0/? [00:00<?, ?it/s]",
      "application/vnd.jupyter.widget-view+json": {
       "version_major": 2,
       "version_minor": 0,
       "model_id": "37dc382b91b74a9b9b9a1328f28ba914"
      }
     },
     "metadata": {},
     "output_type": "display_data"
    },
    {
     "data": {
      "text/plain": "Validation: |          | 0/? [00:00<?, ?it/s]",
      "application/vnd.jupyter.widget-view+json": {
       "version_major": 2,
       "version_minor": 0,
       "model_id": "37013db1ae3c4df699e765f0bd96c8be"
      }
     },
     "metadata": {},
     "output_type": "display_data"
    },
    {
     "data": {
      "text/plain": "Validation: |          | 0/? [00:00<?, ?it/s]",
      "application/vnd.jupyter.widget-view+json": {
       "version_major": 2,
       "version_minor": 0,
       "model_id": "413a5fdc25064a4fa2923d4673d0ec61"
      }
     },
     "metadata": {},
     "output_type": "display_data"
    },
    {
     "data": {
      "text/plain": "Validation: |          | 0/? [00:00<?, ?it/s]",
      "application/vnd.jupyter.widget-view+json": {
       "version_major": 2,
       "version_minor": 0,
       "model_id": "a256871632c04f7d8a05fcc5f3a54bbb"
      }
     },
     "metadata": {},
     "output_type": "display_data"
    },
    {
     "data": {
      "text/plain": "Validation: |          | 0/? [00:00<?, ?it/s]",
      "application/vnd.jupyter.widget-view+json": {
       "version_major": 2,
       "version_minor": 0,
       "model_id": "998cdfd06ae544e4b62bcf27ac8b7bdc"
      }
     },
     "metadata": {},
     "output_type": "display_data"
    },
    {
     "data": {
      "text/plain": "Validation: |          | 0/? [00:00<?, ?it/s]",
      "application/vnd.jupyter.widget-view+json": {
       "version_major": 2,
       "version_minor": 0,
       "model_id": "c319b4f78ba14026a979a4318e75c3ab"
      }
     },
     "metadata": {},
     "output_type": "display_data"
    },
    {
     "data": {
      "text/plain": "Validation: |          | 0/? [00:00<?, ?it/s]",
      "application/vnd.jupyter.widget-view+json": {
       "version_major": 2,
       "version_minor": 0,
       "model_id": "1630db53742943b2ae9e97985d2d889a"
      }
     },
     "metadata": {},
     "output_type": "display_data"
    },
    {
     "data": {
      "text/plain": "Validation: |          | 0/? [00:00<?, ?it/s]",
      "application/vnd.jupyter.widget-view+json": {
       "version_major": 2,
       "version_minor": 0,
       "model_id": "e20f245ea0824fa0970e626ab3c0939d"
      }
     },
     "metadata": {},
     "output_type": "display_data"
    },
    {
     "data": {
      "text/plain": "Validation: |          | 0/? [00:00<?, ?it/s]",
      "application/vnd.jupyter.widget-view+json": {
       "version_major": 2,
       "version_minor": 0,
       "model_id": "99c95a5e37944945b6d569bee149cd04"
      }
     },
     "metadata": {},
     "output_type": "display_data"
    },
    {
     "data": {
      "text/plain": "Validation: |          | 0/? [00:00<?, ?it/s]",
      "application/vnd.jupyter.widget-view+json": {
       "version_major": 2,
       "version_minor": 0,
       "model_id": "520b14f5abc942bfadf6e10cafac835a"
      }
     },
     "metadata": {},
     "output_type": "display_data"
    },
    {
     "data": {
      "text/plain": "Validation: |          | 0/? [00:00<?, ?it/s]",
      "application/vnd.jupyter.widget-view+json": {
       "version_major": 2,
       "version_minor": 0,
       "model_id": "47a472f016224d2689fabee7234530d9"
      }
     },
     "metadata": {},
     "output_type": "display_data"
    },
    {
     "data": {
      "text/plain": "Validation: |          | 0/? [00:00<?, ?it/s]",
      "application/vnd.jupyter.widget-view+json": {
       "version_major": 2,
       "version_minor": 0,
       "model_id": "0e70c0a9ca98445a8ff9e28b5645369e"
      }
     },
     "metadata": {},
     "output_type": "display_data"
    },
    {
     "data": {
      "text/plain": "Validation: |          | 0/? [00:00<?, ?it/s]",
      "application/vnd.jupyter.widget-view+json": {
       "version_major": 2,
       "version_minor": 0,
       "model_id": "653ff65f8aff44b5b33ebd605672db94"
      }
     },
     "metadata": {},
     "output_type": "display_data"
    },
    {
     "data": {
      "text/plain": "Validation: |          | 0/? [00:00<?, ?it/s]",
      "application/vnd.jupyter.widget-view+json": {
       "version_major": 2,
       "version_minor": 0,
       "model_id": "72610a8c5c1f43c8af9f793cb5ddf9c7"
      }
     },
     "metadata": {},
     "output_type": "display_data"
    },
    {
     "data": {
      "text/plain": "Validation: |          | 0/? [00:00<?, ?it/s]",
      "application/vnd.jupyter.widget-view+json": {
       "version_major": 2,
       "version_minor": 0,
       "model_id": "d45472f866f5460bb74fb2b80cb12338"
      }
     },
     "metadata": {},
     "output_type": "display_data"
    },
    {
     "data": {
      "text/plain": "Validation: |          | 0/? [00:00<?, ?it/s]",
      "application/vnd.jupyter.widget-view+json": {
       "version_major": 2,
       "version_minor": 0,
       "model_id": "c4cc5e83418147e783e80e8bed0d2459"
      }
     },
     "metadata": {},
     "output_type": "display_data"
    },
    {
     "data": {
      "text/plain": "Validation: |          | 0/? [00:00<?, ?it/s]",
      "application/vnd.jupyter.widget-view+json": {
       "version_major": 2,
       "version_minor": 0,
       "model_id": "4657a3f5b9c247268d2c6fd50f5b5cf9"
      }
     },
     "metadata": {},
     "output_type": "display_data"
    },
    {
     "data": {
      "text/plain": "Validation: |          | 0/? [00:00<?, ?it/s]",
      "application/vnd.jupyter.widget-view+json": {
       "version_major": 2,
       "version_minor": 0,
       "model_id": "8e6c57a4c97943e79820ebef27ec3da7"
      }
     },
     "metadata": {},
     "output_type": "display_data"
    },
    {
     "data": {
      "text/plain": "Validation: |          | 0/? [00:00<?, ?it/s]",
      "application/vnd.jupyter.widget-view+json": {
       "version_major": 2,
       "version_minor": 0,
       "model_id": "939d6ef4948c4f46883033181843feb1"
      }
     },
     "metadata": {},
     "output_type": "display_data"
    },
    {
     "data": {
      "text/plain": "Validation: |          | 0/? [00:00<?, ?it/s]",
      "application/vnd.jupyter.widget-view+json": {
       "version_major": 2,
       "version_minor": 0,
       "model_id": "069d344516c2436e826febf6ab105c96"
      }
     },
     "metadata": {},
     "output_type": "display_data"
    },
    {
     "data": {
      "text/plain": "Validation: |          | 0/? [00:00<?, ?it/s]",
      "application/vnd.jupyter.widget-view+json": {
       "version_major": 2,
       "version_minor": 0,
       "model_id": "217d81de155b45a5a2e6f4fd8240df2f"
      }
     },
     "metadata": {},
     "output_type": "display_data"
    },
    {
     "data": {
      "text/plain": "Validation: |          | 0/? [00:00<?, ?it/s]",
      "application/vnd.jupyter.widget-view+json": {
       "version_major": 2,
       "version_minor": 0,
       "model_id": "be6ff97e04c8488fafc41fe604565907"
      }
     },
     "metadata": {},
     "output_type": "display_data"
    },
    {
     "data": {
      "text/plain": "Validation: |          | 0/? [00:00<?, ?it/s]",
      "application/vnd.jupyter.widget-view+json": {
       "version_major": 2,
       "version_minor": 0,
       "model_id": "3dfbbbb1a87e43c58bd9bc0e1666713e"
      }
     },
     "metadata": {},
     "output_type": "display_data"
    },
    {
     "data": {
      "text/plain": "Validation: |          | 0/? [00:00<?, ?it/s]",
      "application/vnd.jupyter.widget-view+json": {
       "version_major": 2,
       "version_minor": 0,
       "model_id": "9ec60ab0808f485884c3720ff1abaab3"
      }
     },
     "metadata": {},
     "output_type": "display_data"
    },
    {
     "data": {
      "text/plain": "Validation: |          | 0/? [00:00<?, ?it/s]",
      "application/vnd.jupyter.widget-view+json": {
       "version_major": 2,
       "version_minor": 0,
       "model_id": "d7757a6fbe8d4bf8aea6ac39fa527618"
      }
     },
     "metadata": {},
     "output_type": "display_data"
    },
    {
     "data": {
      "text/plain": "Validation: |          | 0/? [00:00<?, ?it/s]",
      "application/vnd.jupyter.widget-view+json": {
       "version_major": 2,
       "version_minor": 0,
       "model_id": "71e4c9e1bc754d32a30aef325a27c3ca"
      }
     },
     "metadata": {},
     "output_type": "display_data"
    },
    {
     "data": {
      "text/plain": "Validation: |          | 0/? [00:00<?, ?it/s]",
      "application/vnd.jupyter.widget-view+json": {
       "version_major": 2,
       "version_minor": 0,
       "model_id": "4053223b5e9049fea3b0590a2fbc06e7"
      }
     },
     "metadata": {},
     "output_type": "display_data"
    },
    {
     "data": {
      "text/plain": "Validation: |          | 0/? [00:00<?, ?it/s]",
      "application/vnd.jupyter.widget-view+json": {
       "version_major": 2,
       "version_minor": 0,
       "model_id": "5dbbf956e11e417aa51fab09323fe87b"
      }
     },
     "metadata": {},
     "output_type": "display_data"
    },
    {
     "data": {
      "text/plain": "Validation: |          | 0/? [00:00<?, ?it/s]",
      "application/vnd.jupyter.widget-view+json": {
       "version_major": 2,
       "version_minor": 0,
       "model_id": "f870def2619143d38c04225ced0c27d7"
      }
     },
     "metadata": {},
     "output_type": "display_data"
    },
    {
     "data": {
      "text/plain": "Validation: |          | 0/? [00:00<?, ?it/s]",
      "application/vnd.jupyter.widget-view+json": {
       "version_major": 2,
       "version_minor": 0,
       "model_id": "80ce2211929444b2a8df9a4c8e106635"
      }
     },
     "metadata": {},
     "output_type": "display_data"
    },
    {
     "data": {
      "text/plain": "Validation: |          | 0/? [00:00<?, ?it/s]",
      "application/vnd.jupyter.widget-view+json": {
       "version_major": 2,
       "version_minor": 0,
       "model_id": "eaf4b95a5566496fb5c533f3d0a20092"
      }
     },
     "metadata": {},
     "output_type": "display_data"
    },
    {
     "data": {
      "text/plain": "Validation: |          | 0/? [00:00<?, ?it/s]",
      "application/vnd.jupyter.widget-view+json": {
       "version_major": 2,
       "version_minor": 0,
       "model_id": "c28b0e50a27b4ab590f04240c2ceaa04"
      }
     },
     "metadata": {},
     "output_type": "display_data"
    },
    {
     "data": {
      "text/plain": "Validation: |          | 0/? [00:00<?, ?it/s]",
      "application/vnd.jupyter.widget-view+json": {
       "version_major": 2,
       "version_minor": 0,
       "model_id": "c022685c98ff45868a3bc4ed88ef2d00"
      }
     },
     "metadata": {},
     "output_type": "display_data"
    },
    {
     "data": {
      "text/plain": "Validation: |          | 0/? [00:00<?, ?it/s]",
      "application/vnd.jupyter.widget-view+json": {
       "version_major": 2,
       "version_minor": 0,
       "model_id": "f8e74555b80644abb7ec2526982a7660"
      }
     },
     "metadata": {},
     "output_type": "display_data"
    },
    {
     "data": {
      "text/plain": "Validation: |          | 0/? [00:00<?, ?it/s]",
      "application/vnd.jupyter.widget-view+json": {
       "version_major": 2,
       "version_minor": 0,
       "model_id": "c9a41c705fa84273bdd91a2ec281618f"
      }
     },
     "metadata": {},
     "output_type": "display_data"
    },
    {
     "data": {
      "text/plain": "Validation: |          | 0/? [00:00<?, ?it/s]",
      "application/vnd.jupyter.widget-view+json": {
       "version_major": 2,
       "version_minor": 0,
       "model_id": "d3e27f9e9e5c4eeda56f04da8434793b"
      }
     },
     "metadata": {},
     "output_type": "display_data"
    },
    {
     "data": {
      "text/plain": "Validation: |          | 0/? [00:00<?, ?it/s]",
      "application/vnd.jupyter.widget-view+json": {
       "version_major": 2,
       "version_minor": 0,
       "model_id": "be60aaa4525e409d9ca4424f04d220e7"
      }
     },
     "metadata": {},
     "output_type": "display_data"
    },
    {
     "data": {
      "text/plain": "Validation: |          | 0/? [00:00<?, ?it/s]",
      "application/vnd.jupyter.widget-view+json": {
       "version_major": 2,
       "version_minor": 0,
       "model_id": "629bfd503bf346e784d1bc6033d8326f"
      }
     },
     "metadata": {},
     "output_type": "display_data"
    },
    {
     "data": {
      "text/plain": "Validation: |          | 0/? [00:00<?, ?it/s]",
      "application/vnd.jupyter.widget-view+json": {
       "version_major": 2,
       "version_minor": 0,
       "model_id": "58ff8ccb7d5b48279950f2bb56129712"
      }
     },
     "metadata": {},
     "output_type": "display_data"
    },
    {
     "data": {
      "text/plain": "Validation: |          | 0/? [00:00<?, ?it/s]",
      "application/vnd.jupyter.widget-view+json": {
       "version_major": 2,
       "version_minor": 0,
       "model_id": "7dcb3f3e6eba42c79c18ce38c81c379c"
      }
     },
     "metadata": {},
     "output_type": "display_data"
    },
    {
     "data": {
      "text/plain": "Validation: |          | 0/? [00:00<?, ?it/s]",
      "application/vnd.jupyter.widget-view+json": {
       "version_major": 2,
       "version_minor": 0,
       "model_id": "c691e98f145d40ffb088b0c5117b41b3"
      }
     },
     "metadata": {},
     "output_type": "display_data"
    },
    {
     "data": {
      "text/plain": "Validation: |          | 0/? [00:00<?, ?it/s]",
      "application/vnd.jupyter.widget-view+json": {
       "version_major": 2,
       "version_minor": 0,
       "model_id": "4edf42eca5194f788ae15bed1780e789"
      }
     },
     "metadata": {},
     "output_type": "display_data"
    },
    {
     "data": {
      "text/plain": "Validation: |          | 0/? [00:00<?, ?it/s]",
      "application/vnd.jupyter.widget-view+json": {
       "version_major": 2,
       "version_minor": 0,
       "model_id": "a9b78e569009478e85ff57753a315bbf"
      }
     },
     "metadata": {},
     "output_type": "display_data"
    },
    {
     "data": {
      "text/plain": "Validation: |          | 0/? [00:00<?, ?it/s]",
      "application/vnd.jupyter.widget-view+json": {
       "version_major": 2,
       "version_minor": 0,
       "model_id": "413c9c34389f4e4e90d35e4dfa35eb28"
      }
     },
     "metadata": {},
     "output_type": "display_data"
    },
    {
     "data": {
      "text/plain": "Validation: |          | 0/? [00:00<?, ?it/s]",
      "application/vnd.jupyter.widget-view+json": {
       "version_major": 2,
       "version_minor": 0,
       "model_id": "f07e76d71aaa4ac39a51c0d481d97a65"
      }
     },
     "metadata": {},
     "output_type": "display_data"
    },
    {
     "data": {
      "text/plain": "Validation: |          | 0/? [00:00<?, ?it/s]",
      "application/vnd.jupyter.widget-view+json": {
       "version_major": 2,
       "version_minor": 0,
       "model_id": "991711080ba041cea7bad56a298a8550"
      }
     },
     "metadata": {},
     "output_type": "display_data"
    },
    {
     "data": {
      "text/plain": "Validation: |          | 0/? [00:00<?, ?it/s]",
      "application/vnd.jupyter.widget-view+json": {
       "version_major": 2,
       "version_minor": 0,
       "model_id": "93a5e10329554d5da7f5c0e4b4ddad37"
      }
     },
     "metadata": {},
     "output_type": "display_data"
    },
    {
     "data": {
      "text/plain": "Validation: |          | 0/? [00:00<?, ?it/s]",
      "application/vnd.jupyter.widget-view+json": {
       "version_major": 2,
       "version_minor": 0,
       "model_id": "79783cb191ea44489a7249b7127be837"
      }
     },
     "metadata": {},
     "output_type": "display_data"
    },
    {
     "data": {
      "text/plain": "Validation: |          | 0/? [00:00<?, ?it/s]",
      "application/vnd.jupyter.widget-view+json": {
       "version_major": 2,
       "version_minor": 0,
       "model_id": "e6d561367e184959ae0069288f9970a1"
      }
     },
     "metadata": {},
     "output_type": "display_data"
    },
    {
     "data": {
      "text/plain": "Validation: |          | 0/? [00:00<?, ?it/s]",
      "application/vnd.jupyter.widget-view+json": {
       "version_major": 2,
       "version_minor": 0,
       "model_id": "549614b3db3243989f7d634f8263043e"
      }
     },
     "metadata": {},
     "output_type": "display_data"
    },
    {
     "data": {
      "text/plain": "Validation: |          | 0/? [00:00<?, ?it/s]",
      "application/vnd.jupyter.widget-view+json": {
       "version_major": 2,
       "version_minor": 0,
       "model_id": "2cde35c5246e42f3af04874194c10ace"
      }
     },
     "metadata": {},
     "output_type": "display_data"
    },
    {
     "data": {
      "text/plain": "Validation: |          | 0/? [00:00<?, ?it/s]",
      "application/vnd.jupyter.widget-view+json": {
       "version_major": 2,
       "version_minor": 0,
       "model_id": "e3c700459f434f7b96322ef2ff7d3c33"
      }
     },
     "metadata": {},
     "output_type": "display_data"
    },
    {
     "data": {
      "text/plain": "Validation: |          | 0/? [00:00<?, ?it/s]",
      "application/vnd.jupyter.widget-view+json": {
       "version_major": 2,
       "version_minor": 0,
       "model_id": "c08562b6d7f24def9de6d53ba1879387"
      }
     },
     "metadata": {},
     "output_type": "display_data"
    },
    {
     "data": {
      "text/plain": "Validation: |          | 0/? [00:00<?, ?it/s]",
      "application/vnd.jupyter.widget-view+json": {
       "version_major": 2,
       "version_minor": 0,
       "model_id": "c3532256b0b64e799de430252470b919"
      }
     },
     "metadata": {},
     "output_type": "display_data"
    },
    {
     "data": {
      "text/plain": "Validation: |          | 0/? [00:00<?, ?it/s]",
      "application/vnd.jupyter.widget-view+json": {
       "version_major": 2,
       "version_minor": 0,
       "model_id": "5a439e71ea8f4294bbc87d49d9a79abb"
      }
     },
     "metadata": {},
     "output_type": "display_data"
    },
    {
     "data": {
      "text/plain": "Validation: |          | 0/? [00:00<?, ?it/s]",
      "application/vnd.jupyter.widget-view+json": {
       "version_major": 2,
       "version_minor": 0,
       "model_id": "2783857528a94703a38d3443e4edeb12"
      }
     },
     "metadata": {},
     "output_type": "display_data"
    },
    {
     "data": {
      "text/plain": "Validation: |          | 0/? [00:00<?, ?it/s]",
      "application/vnd.jupyter.widget-view+json": {
       "version_major": 2,
       "version_minor": 0,
       "model_id": "696c01e7633e47b49d589e86bb57bcf0"
      }
     },
     "metadata": {},
     "output_type": "display_data"
    },
    {
     "data": {
      "text/plain": "Validation: |          | 0/? [00:00<?, ?it/s]",
      "application/vnd.jupyter.widget-view+json": {
       "version_major": 2,
       "version_minor": 0,
       "model_id": "b92efeff781e43488d347ce44701e226"
      }
     },
     "metadata": {},
     "output_type": "display_data"
    },
    {
     "data": {
      "text/plain": "Validation: |          | 0/? [00:00<?, ?it/s]",
      "application/vnd.jupyter.widget-view+json": {
       "version_major": 2,
       "version_minor": 0,
       "model_id": "87c882eae7534443831eb57438ec69ed"
      }
     },
     "metadata": {},
     "output_type": "display_data"
    },
    {
     "data": {
      "text/plain": "Validation: |          | 0/? [00:00<?, ?it/s]",
      "application/vnd.jupyter.widget-view+json": {
       "version_major": 2,
       "version_minor": 0,
       "model_id": "fb2edf4ba5b84d1191b4dfbf107cd4ff"
      }
     },
     "metadata": {},
     "output_type": "display_data"
    },
    {
     "data": {
      "text/plain": "Validation: |          | 0/? [00:00<?, ?it/s]",
      "application/vnd.jupyter.widget-view+json": {
       "version_major": 2,
       "version_minor": 0,
       "model_id": "e2352a92f005455a976bc53ad1723f16"
      }
     },
     "metadata": {},
     "output_type": "display_data"
    },
    {
     "data": {
      "text/plain": "Validation: |          | 0/? [00:00<?, ?it/s]",
      "application/vnd.jupyter.widget-view+json": {
       "version_major": 2,
       "version_minor": 0,
       "model_id": "698ffb88a0ba4c7c9a5600b890c6491f"
      }
     },
     "metadata": {},
     "output_type": "display_data"
    },
    {
     "data": {
      "text/plain": "Validation: |          | 0/? [00:00<?, ?it/s]",
      "application/vnd.jupyter.widget-view+json": {
       "version_major": 2,
       "version_minor": 0,
       "model_id": "990d0625e24440ad91098288dfc45eb4"
      }
     },
     "metadata": {},
     "output_type": "display_data"
    },
    {
     "data": {
      "text/plain": "Validation: |          | 0/? [00:00<?, ?it/s]",
      "application/vnd.jupyter.widget-view+json": {
       "version_major": 2,
       "version_minor": 0,
       "model_id": "19bdcc1ca5e64b1b97ad4b48b300ff08"
      }
     },
     "metadata": {},
     "output_type": "display_data"
    },
    {
     "data": {
      "text/plain": "Validation: |          | 0/? [00:00<?, ?it/s]",
      "application/vnd.jupyter.widget-view+json": {
       "version_major": 2,
       "version_minor": 0,
       "model_id": "83cb1d2fe0e847918fe55231a246cef5"
      }
     },
     "metadata": {},
     "output_type": "display_data"
    },
    {
     "data": {
      "text/plain": "Validation: |          | 0/? [00:00<?, ?it/s]",
      "application/vnd.jupyter.widget-view+json": {
       "version_major": 2,
       "version_minor": 0,
       "model_id": "353d3620e42a4b66bb66060295d1ecc5"
      }
     },
     "metadata": {},
     "output_type": "display_data"
    },
    {
     "data": {
      "text/plain": "Validation: |          | 0/? [00:00<?, ?it/s]",
      "application/vnd.jupyter.widget-view+json": {
       "version_major": 2,
       "version_minor": 0,
       "model_id": "ee59494043474641ad2ef00b64a92396"
      }
     },
     "metadata": {},
     "output_type": "display_data"
    },
    {
     "data": {
      "text/plain": "Validation: |          | 0/? [00:00<?, ?it/s]",
      "application/vnd.jupyter.widget-view+json": {
       "version_major": 2,
       "version_minor": 0,
       "model_id": "162c7019c1a24d75b64e85f918cd10d6"
      }
     },
     "metadata": {},
     "output_type": "display_data"
    },
    {
     "data": {
      "text/plain": "Validation: |          | 0/? [00:00<?, ?it/s]",
      "application/vnd.jupyter.widget-view+json": {
       "version_major": 2,
       "version_minor": 0,
       "model_id": "f3245a95a1b44b6c9c10fedf5cc7ab1b"
      }
     },
     "metadata": {},
     "output_type": "display_data"
    },
    {
     "data": {
      "text/plain": "Validation: |          | 0/? [00:00<?, ?it/s]",
      "application/vnd.jupyter.widget-view+json": {
       "version_major": 2,
       "version_minor": 0,
       "model_id": "7f0adca54dec4fafb43747c2fa7bc03f"
      }
     },
     "metadata": {},
     "output_type": "display_data"
    },
    {
     "data": {
      "text/plain": "Validation: |          | 0/? [00:00<?, ?it/s]",
      "application/vnd.jupyter.widget-view+json": {
       "version_major": 2,
       "version_minor": 0,
       "model_id": "2f573611c4cc435198f6897e3476b011"
      }
     },
     "metadata": {},
     "output_type": "display_data"
    },
    {
     "data": {
      "text/plain": "Validation: |          | 0/? [00:00<?, ?it/s]",
      "application/vnd.jupyter.widget-view+json": {
       "version_major": 2,
       "version_minor": 0,
       "model_id": "7026a3949d084131b4accdc6d9fede6e"
      }
     },
     "metadata": {},
     "output_type": "display_data"
    },
    {
     "data": {
      "text/plain": "Validation: |          | 0/? [00:00<?, ?it/s]",
      "application/vnd.jupyter.widget-view+json": {
       "version_major": 2,
       "version_minor": 0,
       "model_id": "3cd9ed942ba0475db40ba1b2f38e2706"
      }
     },
     "metadata": {},
     "output_type": "display_data"
    },
    {
     "data": {
      "text/plain": "Validation: |          | 0/? [00:00<?, ?it/s]",
      "application/vnd.jupyter.widget-view+json": {
       "version_major": 2,
       "version_minor": 0,
       "model_id": "e1795b72f43e4b1fbb27660f5485066f"
      }
     },
     "metadata": {},
     "output_type": "display_data"
    },
    {
     "data": {
      "text/plain": "Validation: |          | 0/? [00:00<?, ?it/s]",
      "application/vnd.jupyter.widget-view+json": {
       "version_major": 2,
       "version_minor": 0,
       "model_id": "7e07d4a20e3a4178b365f4d961017c08"
      }
     },
     "metadata": {},
     "output_type": "display_data"
    },
    {
     "data": {
      "text/plain": "Validation: |          | 0/? [00:00<?, ?it/s]",
      "application/vnd.jupyter.widget-view+json": {
       "version_major": 2,
       "version_minor": 0,
       "model_id": "89b3f5b145db470594029d07c9be3817"
      }
     },
     "metadata": {},
     "output_type": "display_data"
    },
    {
     "data": {
      "text/plain": "Validation: |          | 0/? [00:00<?, ?it/s]",
      "application/vnd.jupyter.widget-view+json": {
       "version_major": 2,
       "version_minor": 0,
       "model_id": "5cd6c26ca9e64ba8818137adcb524814"
      }
     },
     "metadata": {},
     "output_type": "display_data"
    },
    {
     "data": {
      "text/plain": "Validation: |          | 0/? [00:00<?, ?it/s]",
      "application/vnd.jupyter.widget-view+json": {
       "version_major": 2,
       "version_minor": 0,
       "model_id": "a4b470c45e12483e8c5497d7f2efc7d3"
      }
     },
     "metadata": {},
     "output_type": "display_data"
    },
    {
     "data": {
      "text/plain": "Validation: |          | 0/? [00:00<?, ?it/s]",
      "application/vnd.jupyter.widget-view+json": {
       "version_major": 2,
       "version_minor": 0,
       "model_id": "28e1015d33c94b5a882a397ee821334e"
      }
     },
     "metadata": {},
     "output_type": "display_data"
    },
    {
     "data": {
      "text/plain": "Validation: |          | 0/? [00:00<?, ?it/s]",
      "application/vnd.jupyter.widget-view+json": {
       "version_major": 2,
       "version_minor": 0,
       "model_id": "282caf4f4456480a8fe3e4c6ac622344"
      }
     },
     "metadata": {},
     "output_type": "display_data"
    },
    {
     "data": {
      "text/plain": "Validation: |          | 0/? [00:00<?, ?it/s]",
      "application/vnd.jupyter.widget-view+json": {
       "version_major": 2,
       "version_minor": 0,
       "model_id": "8a376e32561a4e919174a2fc57c6e7a8"
      }
     },
     "metadata": {},
     "output_type": "display_data"
    },
    {
     "data": {
      "text/plain": "Validation: |          | 0/? [00:00<?, ?it/s]",
      "application/vnd.jupyter.widget-view+json": {
       "version_major": 2,
       "version_minor": 0,
       "model_id": "0e021090e30342c0a1eb932101126c44"
      }
     },
     "metadata": {},
     "output_type": "display_data"
    },
    {
     "data": {
      "text/plain": "Validation: |          | 0/? [00:00<?, ?it/s]",
      "application/vnd.jupyter.widget-view+json": {
       "version_major": 2,
       "version_minor": 0,
       "model_id": "e19bbb3caf40444ab91a1354f779241d"
      }
     },
     "metadata": {},
     "output_type": "display_data"
    },
    {
     "data": {
      "text/plain": "Validation: |          | 0/? [00:00<?, ?it/s]",
      "application/vnd.jupyter.widget-view+json": {
       "version_major": 2,
       "version_minor": 0,
       "model_id": "16a7c420e18e4d32ab4d27839d9f0b96"
      }
     },
     "metadata": {},
     "output_type": "display_data"
    },
    {
     "data": {
      "text/plain": "Validation: |          | 0/? [00:00<?, ?it/s]",
      "application/vnd.jupyter.widget-view+json": {
       "version_major": 2,
       "version_minor": 0,
       "model_id": "ceaf661d2e2c4a9790e3b56bcd12af7a"
      }
     },
     "metadata": {},
     "output_type": "display_data"
    },
    {
     "data": {
      "text/plain": "Validation: |          | 0/? [00:00<?, ?it/s]",
      "application/vnd.jupyter.widget-view+json": {
       "version_major": 2,
       "version_minor": 0,
       "model_id": "f235bbead9e04e4e8e85bfa17539293b"
      }
     },
     "metadata": {},
     "output_type": "display_data"
    },
    {
     "data": {
      "text/plain": "Validation: |          | 0/? [00:00<?, ?it/s]",
      "application/vnd.jupyter.widget-view+json": {
       "version_major": 2,
       "version_minor": 0,
       "model_id": "d6ec7a22940d4b47b27573e3ac8a2543"
      }
     },
     "metadata": {},
     "output_type": "display_data"
    },
    {
     "data": {
      "text/plain": "Validation: |          | 0/? [00:00<?, ?it/s]",
      "application/vnd.jupyter.widget-view+json": {
       "version_major": 2,
       "version_minor": 0,
       "model_id": "2417693d564a48a88ad4dc8db5e30b7e"
      }
     },
     "metadata": {},
     "output_type": "display_data"
    },
    {
     "data": {
      "text/plain": "Validation: |          | 0/? [00:00<?, ?it/s]",
      "application/vnd.jupyter.widget-view+json": {
       "version_major": 2,
       "version_minor": 0,
       "model_id": "a2b9e9f24e0948faaad67b55cbd21451"
      }
     },
     "metadata": {},
     "output_type": "display_data"
    },
    {
     "data": {
      "text/plain": "Validation: |          | 0/? [00:00<?, ?it/s]",
      "application/vnd.jupyter.widget-view+json": {
       "version_major": 2,
       "version_minor": 0,
       "model_id": "5e2baf6ed46a4faaabc5942e21547bf1"
      }
     },
     "metadata": {},
     "output_type": "display_data"
    },
    {
     "data": {
      "text/plain": "Validation: |          | 0/? [00:00<?, ?it/s]",
      "application/vnd.jupyter.widget-view+json": {
       "version_major": 2,
       "version_minor": 0,
       "model_id": "452ac96918334df898f33fa227adb2d3"
      }
     },
     "metadata": {},
     "output_type": "display_data"
    },
    {
     "name": "stderr",
     "output_type": "stream",
     "text": [
      "`Trainer.fit` stopped: `max_epochs=100` reached.\n"
     ]
    }
   ],
   "source": [
    "trainer = pl.Trainer(max_epochs=100, accelerator=\"cpu\")\n",
    "trainer.fit(model, dm)"
   ],
   "metadata": {
    "collapsed": false,
    "ExecuteTime": {
     "end_time": "2023-12-02T21:22:11.192629Z",
     "start_time": "2023-12-02T21:18:30.825217Z"
    }
   }
  },
  {
   "cell_type": "code",
   "execution_count": 10,
   "outputs": [
    {
     "name": "stderr",
     "output_type": "stream",
     "text": [
      "/opt/homebrew/Caskroom/miniforge/base/envs/pmldl-movie-recommender-system/lib/python3.9/site-packages/pytorch_lightning/trainer/connectors/data_connector.py:441: The 'test_dataloader' does not have many workers which may be a bottleneck. Consider increasing the value of the `num_workers` argument` to `num_workers=7` in the `DataLoader` to improve performance.\n"
     ]
    },
    {
     "data": {
      "text/plain": "Testing: |          | 0/? [00:00<?, ?it/s]",
      "application/vnd.jupyter.widget-view+json": {
       "version_major": 2,
       "version_minor": 0,
       "model_id": "25078e77f7604200a44399db4c470bb1"
      }
     },
     "metadata": {},
     "output_type": "display_data"
    },
    {
     "name": "stdout",
     "output_type": "stream",
     "text": [
      "────────────────────────────────────────────────────────────────────────────────────────────────────────────────────────\n",
      "       Test metric             DataLoader 0\n",
      "────────────────────────────────────────────────────────────────────────────────────────────────────────────────────────\n",
      "        test_loss           1.0550155639648438\n",
      "────────────────────────────────────────────────────────────────────────────────────────────────────────────────────────\n"
     ]
    },
    {
     "data": {
      "text/plain": "[{'test_loss': 1.0550155639648438}]"
     },
     "execution_count": 10,
     "metadata": {},
     "output_type": "execute_result"
    }
   ],
   "source": [
    "trainer.test(model, dm)"
   ],
   "metadata": {
    "collapsed": false,
    "ExecuteTime": {
     "end_time": "2023-12-02T21:22:44.827112Z",
     "start_time": "2023-12-02T21:22:41.325707Z"
    }
   }
  },
  {
   "cell_type": "markdown",
   "source": [
    "So, the best RMSE I got is 1.05. This result is not as good as could be."
   ],
   "metadata": {
    "collapsed": false
   }
  },
  {
   "cell_type": "markdown",
   "source": [
    "## Saving model"
   ],
   "metadata": {
    "collapsed": false
   }
  },
  {
   "cell_type": "code",
   "execution_count": 42,
   "outputs": [],
   "source": [
    "torch.save(model.state_dict(), \"../models/linear_model.pt\")"
   ],
   "metadata": {
    "collapsed": false,
    "ExecuteTime": {
     "end_time": "2023-12-02T20:42:25.529762Z",
     "start_time": "2023-12-02T20:42:25.518115Z"
    }
   }
  },
  {
   "cell_type": "markdown",
   "source": [
    "## Visualizing loss during training"
   ],
   "metadata": {
    "collapsed": false
   }
  },
  {
   "cell_type": "code",
   "execution_count": 54,
   "outputs": [
    {
     "data": {
      "text/plain": "<IPython.core.display.SVG object>",
      "image/svg+xml": "<svg xmlns=\"http://www.w3.org/2000/svg\" viewBox=\"0 0 330 200\"><g><g><g><g><g><line x1=\"51.5625\" y1=\"176.921875\" x2=\"46.5625\" y2=\"176.921875\" style=\"visibility: inherit;\" fill=\"rgb(0, 0, 0)\" stroke=\"rgb(204, 204, 204)\" stroke-width=\"1px\"/><line x1=\"51.5625\" y1=\"163.31250000000028\" x2=\"46.5625\" y2=\"163.31250000000028\" style=\"visibility: inherit;\" fill=\"rgb(0, 0, 0)\" stroke=\"rgb(204, 204, 204)\" stroke-width=\"1px\"/><line x1=\"51.5625\" y1=\"149.70312499999997\" x2=\"46.5625\" y2=\"149.70312499999997\" style=\"visibility: inherit;\" fill=\"rgb(0, 0, 0)\" stroke=\"rgb(204, 204, 204)\" stroke-width=\"1px\"/><line x1=\"51.5625\" y1=\"136.09375000000023\" x2=\"46.5625\" y2=\"136.09375000000023\" style=\"visibility: inherit;\" fill=\"rgb(0, 0, 0)\" stroke=\"rgb(204, 204, 204)\" stroke-width=\"1px\"/><line x1=\"51.5625\" y1=\"122.48437499999991\" x2=\"46.5625\" y2=\"122.48437499999991\" style=\"visibility: inherit;\" fill=\"rgb(0, 0, 0)\" stroke=\"rgb(204, 204, 204)\" stroke-width=\"1px\"/><line x1=\"51.5625\" y1=\"108.87500000000018\" x2=\"46.5625\" y2=\"108.87500000000018\" style=\"visibility: inherit;\" fill=\"rgb(0, 0, 0)\" stroke=\"rgb(204, 204, 204)\" stroke-width=\"1px\"/><line x1=\"51.5625\" y1=\"95.26562499999986\" x2=\"46.5625\" y2=\"95.26562499999986\" style=\"visibility: inherit;\" fill=\"rgb(0, 0, 0)\" stroke=\"rgb(204, 204, 204)\" stroke-width=\"1px\"/><line x1=\"51.5625\" y1=\"81.65625000000014\" x2=\"46.5625\" y2=\"81.65625000000014\" style=\"visibility: inherit;\" fill=\"rgb(0, 0, 0)\" stroke=\"rgb(204, 204, 204)\" stroke-width=\"1px\"/><line x1=\"51.5625\" y1=\"68.04687499999982\" x2=\"46.5625\" y2=\"68.04687499999982\" style=\"visibility: inherit;\" fill=\"rgb(0, 0, 0)\" stroke=\"rgb(204, 204, 204)\" stroke-width=\"1px\"/><line x1=\"51.5625\" y1=\"54.4375000000001\" x2=\"46.5625\" y2=\"54.4375000000001\" style=\"visibility: inherit;\" fill=\"rgb(0, 0, 0)\" stroke=\"rgb(204, 204, 204)\" stroke-width=\"1px\"/><line x1=\"51.5625\" y1=\"40.82812499999978\" x2=\"46.5625\" y2=\"40.82812499999978\" style=\"visibility: inherit;\" fill=\"rgb(0, 0, 0)\" stroke=\"rgb(204, 204, 204)\" stroke-width=\"1px\"/><line x1=\"51.5625\" y1=\"27.21875000000004\" x2=\"46.5625\" y2=\"27.21875000000004\" style=\"visibility: inherit;\" fill=\"rgb(0, 0, 0)\" stroke=\"rgb(204, 204, 204)\" stroke-width=\"1px\"/><line x1=\"51.5625\" y1=\"13.609374999999716\" x2=\"46.5625\" y2=\"13.609374999999716\" style=\"visibility: inherit;\" fill=\"rgb(0, 0, 0)\" stroke=\"rgb(204, 204, 204)\" stroke-width=\"1px\"/><line x1=\"51.5625\" y1=\"0\" x2=\"46.5625\" y2=\"0\" style=\"visibility: inherit;\" fill=\"rgb(0, 0, 0)\" stroke=\"rgb(204, 204, 204)\" stroke-width=\"1px\"/></g><g transform=\"translate(41.5625, 0)\"><text x=\"0\" y=\"176.921875\" dx=\"0em\" dy=\"0.3em\" style=\"text-anchor: end; visibility: hidden; font-family: Roboto, sans-serif; font-size: 12px; font-weight: 200;\" fill=\"rgb(255, 255, 255)\" stroke=\"none\" stroke-width=\"1px\">1.03</text><text x=\"0\" y=\"163.31250000000028\" dx=\"0em\" dy=\"0.3em\" style=\"text-anchor: end; visibility: inherit; font-family: Roboto, sans-serif; font-size: 12px; font-weight: 200;\" fill=\"rgb(255, 255, 255)\" stroke=\"none\" stroke-width=\"1px\">1.03</text><text x=\"0\" y=\"149.70312499999997\" dx=\"0em\" dy=\"0.3em\" style=\"text-anchor: end; visibility: hidden; font-family: Roboto, sans-serif; font-size: 12px; font-weight: 200;\" fill=\"rgb(255, 255, 255)\" stroke=\"none\" stroke-width=\"1px\">1.04</text><text x=\"0\" y=\"136.09375000000023\" dx=\"0em\" dy=\"0.3em\" style=\"text-anchor: end; visibility: inherit; font-family: Roboto, sans-serif; font-size: 12px; font-weight: 200;\" fill=\"rgb(255, 255, 255)\" stroke=\"none\" stroke-width=\"1px\">1.04</text><text x=\"0\" y=\"122.48437499999991\" dx=\"0em\" dy=\"0.3em\" style=\"text-anchor: end; visibility: hidden; font-family: Roboto, sans-serif; font-size: 12px; font-weight: 200;\" fill=\"rgb(255, 255, 255)\" stroke=\"none\" stroke-width=\"1px\">1.05</text><text x=\"0\" y=\"108.87500000000018\" dx=\"0em\" dy=\"0.3em\" style=\"text-anchor: end; visibility: inherit; font-family: Roboto, sans-serif; font-size: 12px; font-weight: 200;\" fill=\"rgb(255, 255, 255)\" stroke=\"none\" stroke-width=\"1px\">1.05</text><text x=\"0\" y=\"95.26562499999986\" dx=\"0em\" dy=\"0.3em\" style=\"text-anchor: end; visibility: hidden; font-family: Roboto, sans-serif; font-size: 12px; font-weight: 200;\" fill=\"rgb(255, 255, 255)\" stroke=\"none\" stroke-width=\"1px\">1.06</text><text x=\"0\" y=\"81.65625000000014\" dx=\"0em\" dy=\"0.3em\" style=\"text-anchor: end; visibility: inherit; font-family: Roboto, sans-serif; font-size: 12px; font-weight: 200;\" fill=\"rgb(255, 255, 255)\" stroke=\"none\" stroke-width=\"1px\">1.06</text><text x=\"0\" y=\"68.04687499999982\" dx=\"0em\" dy=\"0.3em\" style=\"text-anchor: end; visibility: hidden; font-family: Roboto, sans-serif; font-size: 12px; font-weight: 200;\" fill=\"rgb(255, 255, 255)\" stroke=\"none\" stroke-width=\"1px\">1.07</text><text x=\"0\" y=\"54.4375000000001\" dx=\"0em\" dy=\"0.3em\" style=\"text-anchor: end; visibility: inherit; font-family: Roboto, sans-serif; font-size: 12px; font-weight: 200;\" fill=\"rgb(255, 255, 255)\" stroke=\"none\" stroke-width=\"1px\">1.07</text><text x=\"0\" y=\"40.82812499999978\" dx=\"0em\" dy=\"0.3em\" style=\"text-anchor: end; visibility: hidden; font-family: Roboto, sans-serif; font-size: 12px; font-weight: 200;\" fill=\"rgb(255, 255, 255)\" stroke=\"none\" stroke-width=\"1px\">1.08</text><text x=\"0\" y=\"27.21875000000004\" dx=\"0em\" dy=\"0.3em\" style=\"text-anchor: end; visibility: inherit; font-family: Roboto, sans-serif; font-size: 12px; font-weight: 200;\" fill=\"rgb(255, 255, 255)\" stroke=\"none\" stroke-width=\"1px\">1.08</text><text x=\"0\" y=\"13.609374999999716\" dx=\"0em\" dy=\"0.3em\" style=\"text-anchor: end; visibility: hidden; font-family: Roboto, sans-serif; font-size: 12px; font-weight: 200;\" fill=\"rgb(255, 255, 255)\" stroke=\"none\" stroke-width=\"1px\">1.09</text><text x=\"0\" y=\"0\" dx=\"0em\" dy=\"0.3em\" style=\"text-anchor: end; visibility: hidden; font-family: Roboto, sans-serif; font-size: 12px; font-weight: 200;\" fill=\"rgb(255, 255, 255)\" stroke=\"none\" stroke-width=\"1px\">1.09</text></g><line x1=\"51.5625\" y1=\"0\" x2=\"51.5625\" y2=\"176.921875\" fill=\"rgb(0, 0, 0)\" stroke=\"rgb(204, 204, 204)\" stroke-width=\"1px\"/></g></g><g transform=\"translate(51, 0)\" clip-path=\"url(#clip_0)\"><clipPath id=\"clip_0\"><rect width=\"278\" height=\"176\"/></clipPath><g><g><g><line x1=\"0\" y1=\"0\" x2=\"0\" y2=\"176.921875\" fill=\"rgb(0, 0, 0)\" stroke=\"rgb(189, 189, 189)\" stroke-width=\"1px\" opacity=\"0.25\"/><line x1=\"23.203125\" y1=\"0\" x2=\"23.203125\" y2=\"176.921875\" fill=\"rgb(0, 0, 0)\" stroke=\"rgb(189, 189, 189)\" stroke-width=\"1px\" opacity=\"0.25\"/><line x1=\"46.40625\" y1=\"0\" x2=\"46.40625\" y2=\"176.921875\" fill=\"rgb(0, 0, 0)\" stroke=\"rgb(189, 189, 189)\" stroke-width=\"1px\" opacity=\"0.25\"/><line x1=\"69.609375\" y1=\"0\" x2=\"69.609375\" y2=\"176.921875\" fill=\"rgb(0, 0, 0)\" stroke=\"rgb(189, 189, 189)\" stroke-width=\"1px\" opacity=\"0.25\"/><line x1=\"92.8125\" y1=\"0\" x2=\"92.8125\" y2=\"176.921875\" fill=\"rgb(0, 0, 0)\" stroke=\"rgb(189, 189, 189)\" stroke-width=\"1px\" opacity=\"0.25\"/><line x1=\"116.015625\" y1=\"0\" x2=\"116.015625\" y2=\"176.921875\" fill=\"rgb(0, 0, 0)\" stroke=\"rgb(189, 189, 189)\" stroke-width=\"1px\" opacity=\"0.25\"/><line x1=\"139.21875\" y1=\"0\" x2=\"139.21875\" y2=\"176.921875\" fill=\"rgb(0, 0, 0)\" stroke=\"rgb(189, 189, 189)\" stroke-width=\"1px\" opacity=\"0.25\"/><line x1=\"162.421875\" y1=\"0\" x2=\"162.421875\" y2=\"176.921875\" fill=\"rgb(0, 0, 0)\" stroke=\"rgb(189, 189, 189)\" stroke-width=\"1px\" opacity=\"0.25\"/><line x1=\"185.625\" y1=\"0\" x2=\"185.625\" y2=\"176.921875\" fill=\"rgb(0, 0, 0)\" stroke=\"rgb(189, 189, 189)\" stroke-width=\"1px\" opacity=\"0.25\"/><line x1=\"208.828125\" y1=\"0\" x2=\"208.828125\" y2=\"176.921875\" fill=\"rgb(0, 0, 0)\" stroke=\"rgb(189, 189, 189)\" stroke-width=\"1px\" opacity=\"0.25\"/><line x1=\"232.03125\" y1=\"0\" x2=\"232.03125\" y2=\"176.921875\" fill=\"rgb(0, 0, 0)\" stroke=\"rgb(189, 189, 189)\" stroke-width=\"1px\" opacity=\"0.25\"/><line x1=\"255.234375\" y1=\"0\" x2=\"255.234375\" y2=\"176.921875\" fill=\"rgb(0, 0, 0)\" stroke=\"rgb(189, 189, 189)\" stroke-width=\"1px\" opacity=\"0.25\"/><line x1=\"278.4375\" y1=\"0\" x2=\"278.4375\" y2=\"176.921875\" fill=\"rgb(0, 0, 0)\" stroke=\"rgb(189, 189, 189)\" stroke-width=\"1px\" opacity=\"0.25\"/></g><g><line x1=\"0\" y1=\"176.921875\" x2=\"278.4375\" y2=\"176.921875\" fill=\"rgb(0, 0, 0)\" stroke=\"rgb(189, 189, 189)\" stroke-width=\"1px\" opacity=\"0.25\"/><line x1=\"0\" y1=\"163.31250000000028\" x2=\"278.4375\" y2=\"163.31250000000028\" fill=\"rgb(0, 0, 0)\" stroke=\"rgb(189, 189, 189)\" stroke-width=\"1px\" opacity=\"0.25\"/><line x1=\"0\" y1=\"149.70312499999997\" x2=\"278.4375\" y2=\"149.70312499999997\" fill=\"rgb(0, 0, 0)\" stroke=\"rgb(189, 189, 189)\" stroke-width=\"1px\" opacity=\"0.25\"/><line x1=\"0\" y1=\"136.09375000000023\" x2=\"278.4375\" y2=\"136.09375000000023\" fill=\"rgb(0, 0, 0)\" stroke=\"rgb(189, 189, 189)\" stroke-width=\"1px\" opacity=\"0.25\"/><line x1=\"0\" y1=\"122.48437499999991\" x2=\"278.4375\" y2=\"122.48437499999991\" fill=\"rgb(0, 0, 0)\" stroke=\"rgb(189, 189, 189)\" stroke-width=\"1px\" opacity=\"0.25\"/><line x1=\"0\" y1=\"108.87500000000018\" x2=\"278.4375\" y2=\"108.87500000000018\" fill=\"rgb(0, 0, 0)\" stroke=\"rgb(189, 189, 189)\" stroke-width=\"1px\" opacity=\"0.25\"/><line x1=\"0\" y1=\"95.26562499999986\" x2=\"278.4375\" y2=\"95.26562499999986\" fill=\"rgb(0, 0, 0)\" stroke=\"rgb(189, 189, 189)\" stroke-width=\"1px\" opacity=\"0.25\"/><line x1=\"0\" y1=\"81.65625000000014\" x2=\"278.4375\" y2=\"81.65625000000014\" fill=\"rgb(0, 0, 0)\" stroke=\"rgb(189, 189, 189)\" stroke-width=\"1px\" opacity=\"0.25\"/><line x1=\"0\" y1=\"68.04687499999982\" x2=\"278.4375\" y2=\"68.04687499999982\" fill=\"rgb(0, 0, 0)\" stroke=\"rgb(189, 189, 189)\" stroke-width=\"1px\" opacity=\"0.25\"/><line x1=\"0\" y1=\"54.4375000000001\" x2=\"278.4375\" y2=\"54.4375000000001\" fill=\"rgb(0, 0, 0)\" stroke=\"rgb(189, 189, 189)\" stroke-width=\"1px\" opacity=\"0.25\"/><line x1=\"0\" y1=\"40.82812499999978\" x2=\"278.4375\" y2=\"40.82812499999978\" fill=\"rgb(0, 0, 0)\" stroke=\"rgb(189, 189, 189)\" stroke-width=\"1px\" opacity=\"0.25\"/><line x1=\"0\" y1=\"27.21875000000004\" x2=\"278.4375\" y2=\"27.21875000000004\" fill=\"rgb(0, 0, 0)\" stroke=\"rgb(189, 189, 189)\" stroke-width=\"1px\" opacity=\"0.25\"/><line x1=\"0\" y1=\"13.609374999999716\" x2=\"278.4375\" y2=\"13.609374999999716\" fill=\"rgb(0, 0, 0)\" stroke=\"rgb(189, 189, 189)\" stroke-width=\"1px\" opacity=\"0.25\"/><line x1=\"0\" y1=\"0\" x2=\"278.4375\" y2=\"0\" fill=\"rgb(0, 0, 0)\" stroke=\"rgb(189, 189, 189)\" stroke-width=\"1px\" opacity=\"0.25\"/></g></g></g><g><g><line x1=\"0\" y1=\"2980.4531250000027\" x2=\"278.4375\" y2=\"2980.4531250000027\" fill=\"rgb(0, 0, 0)\" stroke=\"rgb(153, 153, 153)\" stroke-width=\"1.5px\"/></g></g><g><g><line x1=\"0\" y1=\"0\" x2=\"0\" y2=\"176.921875\" fill=\"rgb(0, 0, 0)\" stroke=\"rgb(153, 153, 153)\" stroke-width=\"1.5px\"/></g></g><g><g><g><g><g><path stroke=\"rgb(255, 112, 67)\" stroke-width=\"2px\" d=\"M12.94734375,-9.1510621514172L19.44421875,22.94999478149177L25.94109375,51.24006310412127L32.43796875,74.88999341693L38.93484375,92.62174699389858L45.431718749999995,97.25963528029594L51.92859375,100.64468567069918L58.42546875,110.66003006935584L64.92234375,117.73858445721271L71.41921875,122.7817389731945L77.91609375,127.29289799094266L84.41296874999999,131.5694414274263L90.90984375000001,126.95973394952098L97.40671875,131.44614686737248L103.90359375,132.75166320646682L110.40046875,136.54505635777946L116.89734375,139.1174093164825L123.39421875,142.35865854165507L129.89109375,143.03636380431934L136.38796875,140.41155005698315L142.88484375,138.80087639356594L149.38171875,139.67205455142445L155.87859375,139.5739727691783L162.37546875,144.24335486272923L168.87234375,140.87673745806356L175.36921875000002,143.86222278417665L181.86609375,145.87648985902857L188.36296875,142.52309006347778L194.85984374999998,139.67404079570275L201.35671875,144.16347033406348L207.85359375000002,145.238008349971L214.35046875,144.41702257040916L220.84734375,144.86345539444568L227.34421875,142.03688297153514L233.84109375,140.21192916824242L240.33796875,146.66484286960244L246.83484374999998,149.5389021418492L253.33171875000002,149.13933884305192L259.82859375,147.543174832132\" style=\"fill: none;\" fill=\"none\"/></g></g></g></g><g opacity=\"0.2\"><g><g><g><path stroke=\"rgb(255, 112, 67)\" stroke-width=\"2px\" d=\"M6.45046875,-70.77473068237317L12.94734375,27.823138967156364L19.44421875,53.76700943708417L25.94109375,84.50918345153332L32.43796875,105.76734243333343L38.93484375,117.15114562213422L45.431718749999995,103.89188973605633L51.92859375,105.58012163639069L58.42546875,125.430717676878L64.92234375,128.24941276013854L71.41921875,130.30072970688346L77.91609375,134.0350869894028L84.41296874999999,137.97029292583468L90.90984375000001,120.05420362949374L97.40671875,138.17049263417726L103.90359375,134.70901696383956L110.40046875,142.2335408478976L116.89734375,142.9752856343985L123.39421875,147.22003860771662L129.89109375,144.0528597533703L136.38796875,136.47447338700297L142.88484375,136.38491889834407L149.38171875,140.97880458831793L155.87859375,139.42685125768188L162.37546875,151.24739481508738L168.87234375,135.8268257081509L175.36921875000002,148.34044313430792L181.86609375,148.8978873789311L188.36296875,137.49299345910555L194.85984374999998,135.4004684686661L201.35671875,150.89761315286165L207.85359375000002,146.84981516003614L214.35046875,143.18554399907592L220.84734375,145.53310459852224L227.34421875,137.7970244586468L233.84109375,137.47449851036077L240.33796875,156.34421332180506L246.83484374999998,153.84999102354055L253.33171875000002,148.53999389708045L259.82859375,145.14892882108694\" style=\"fill: none;\" fill=\"none\"/></g></g></g></g></g></g><g transform=\"translate(51, 176)\" clip-path=\"url(#clip_1)\"><clipPath id=\"clip_1\"><rect width=\"278\" height=\"23\"/></clipPath><g><g><line x1=\"0\" y1=\"0\" x2=\"0\" y2=\"5\" style=\"visibility: inherit;\" fill=\"rgb(0, 0, 0)\" stroke=\"rgb(204, 204, 204)\" stroke-width=\"1px\"/><line x1=\"23.203125\" y1=\"0\" x2=\"23.203125\" y2=\"5\" style=\"visibility: inherit;\" fill=\"rgb(0, 0, 0)\" stroke=\"rgb(204, 204, 204)\" stroke-width=\"1px\"/><line x1=\"46.40625\" y1=\"0\" x2=\"46.40625\" y2=\"5\" style=\"visibility: inherit;\" fill=\"rgb(0, 0, 0)\" stroke=\"rgb(204, 204, 204)\" stroke-width=\"1px\"/><line x1=\"69.609375\" y1=\"0\" x2=\"69.609375\" y2=\"5\" style=\"visibility: inherit;\" fill=\"rgb(0, 0, 0)\" stroke=\"rgb(204, 204, 204)\" stroke-width=\"1px\"/><line x1=\"92.8125\" y1=\"0\" x2=\"92.8125\" y2=\"5\" style=\"visibility: inherit;\" fill=\"rgb(0, 0, 0)\" stroke=\"rgb(204, 204, 204)\" stroke-width=\"1px\"/><line x1=\"116.015625\" y1=\"0\" x2=\"116.015625\" y2=\"5\" style=\"visibility: inherit;\" fill=\"rgb(0, 0, 0)\" stroke=\"rgb(204, 204, 204)\" stroke-width=\"1px\"/><line x1=\"139.21875\" y1=\"0\" x2=\"139.21875\" y2=\"5\" style=\"visibility: inherit;\" fill=\"rgb(0, 0, 0)\" stroke=\"rgb(204, 204, 204)\" stroke-width=\"1px\"/><line x1=\"162.421875\" y1=\"0\" x2=\"162.421875\" y2=\"5\" style=\"visibility: inherit;\" fill=\"rgb(0, 0, 0)\" stroke=\"rgb(204, 204, 204)\" stroke-width=\"1px\"/><line x1=\"185.625\" y1=\"0\" x2=\"185.625\" y2=\"5\" style=\"visibility: inherit;\" fill=\"rgb(0, 0, 0)\" stroke=\"rgb(204, 204, 204)\" stroke-width=\"1px\"/><line x1=\"208.828125\" y1=\"0\" x2=\"208.828125\" y2=\"5\" style=\"visibility: inherit;\" fill=\"rgb(0, 0, 0)\" stroke=\"rgb(204, 204, 204)\" stroke-width=\"1px\"/><line x1=\"232.03125\" y1=\"0\" x2=\"232.03125\" y2=\"5\" style=\"visibility: inherit;\" fill=\"rgb(0, 0, 0)\" stroke=\"rgb(204, 204, 204)\" stroke-width=\"1px\"/><line x1=\"255.234375\" y1=\"0\" x2=\"255.234375\" y2=\"5\" style=\"visibility: inherit;\" fill=\"rgb(0, 0, 0)\" stroke=\"rgb(204, 204, 204)\" stroke-width=\"1px\"/><line x1=\"278.4375\" y1=\"0\" x2=\"278.4375\" y2=\"5\" style=\"visibility: inherit;\" fill=\"rgb(0, 0, 0)\" stroke=\"rgb(204, 204, 204)\" stroke-width=\"1px\"/></g><g transform=\"translate(0, 8)\"><text x=\"0\" y=\"0\" dx=\"0em\" dy=\"0.95em\" style=\"text-anchor: middle; visibility: hidden; font-family: Roboto, sans-serif; font-size: 12px; font-weight: 200;\" fill=\"rgb(255, 255, 255)\" stroke=\"none\" stroke-width=\"1px\">0</text><text x=\"23.203125\" y=\"0\" dx=\"0em\" dy=\"0.95em\" style=\"text-anchor: middle; visibility: inherit; font-family: Roboto, sans-serif; font-size: 12px; font-weight: 200;\" fill=\"rgb(255, 255, 255)\" stroke=\"none\" stroke-width=\"1px\">500</text><text x=\"46.40625\" y=\"0\" dx=\"0em\" dy=\"0.95em\" style=\"text-anchor: middle; visibility: inherit; font-family: Roboto, sans-serif; font-size: 12px; font-weight: 200;\" fill=\"rgb(255, 255, 255)\" stroke=\"none\" stroke-width=\"1px\">1k</text><text x=\"69.609375\" y=\"0\" dx=\"0em\" dy=\"0.95em\" style=\"text-anchor: middle; visibility: inherit; font-family: Roboto, sans-serif; font-size: 12px; font-weight: 200;\" fill=\"rgb(255, 255, 255)\" stroke=\"none\" stroke-width=\"1px\">1.5k</text><text x=\"92.8125\" y=\"0\" dx=\"0em\" dy=\"0.95em\" style=\"text-anchor: middle; visibility: inherit; font-family: Roboto, sans-serif; font-size: 12px; font-weight: 200;\" fill=\"rgb(255, 255, 255)\" stroke=\"none\" stroke-width=\"1px\">2k</text><text x=\"116.015625\" y=\"0\" dx=\"0em\" dy=\"0.95em\" style=\"text-anchor: middle; visibility: inherit; font-family: Roboto, sans-serif; font-size: 12px; font-weight: 200;\" fill=\"rgb(255, 255, 255)\" stroke=\"none\" stroke-width=\"1px\">2.5k</text><text x=\"139.21875\" y=\"0\" dx=\"0em\" dy=\"0.95em\" style=\"text-anchor: middle; visibility: inherit; font-family: Roboto, sans-serif; font-size: 12px; font-weight: 200;\" fill=\"rgb(255, 255, 255)\" stroke=\"none\" stroke-width=\"1px\">3k</text><text x=\"162.421875\" y=\"0\" dx=\"0em\" dy=\"0.95em\" style=\"text-anchor: middle; visibility: inherit; font-family: Roboto, sans-serif; font-size: 12px; font-weight: 200;\" fill=\"rgb(255, 255, 255)\" stroke=\"none\" stroke-width=\"1px\">3.5k</text><text x=\"185.625\" y=\"0\" dx=\"0em\" dy=\"0.95em\" style=\"text-anchor: middle; visibility: inherit; font-family: Roboto, sans-serif; font-size: 12px; font-weight: 200;\" fill=\"rgb(255, 255, 255)\" stroke=\"none\" stroke-width=\"1px\">4k</text><text x=\"208.828125\" y=\"0\" dx=\"0em\" dy=\"0.95em\" style=\"text-anchor: middle; visibility: inherit; font-family: Roboto, sans-serif; font-size: 12px; font-weight: 200;\" fill=\"rgb(255, 255, 255)\" stroke=\"none\" stroke-width=\"1px\">4.5k</text><text x=\"232.03125\" y=\"0\" dx=\"0em\" dy=\"0.95em\" style=\"text-anchor: middle; visibility: inherit; font-family: Roboto, sans-serif; font-size: 12px; font-weight: 200;\" fill=\"rgb(255, 255, 255)\" stroke=\"none\" stroke-width=\"1px\">5k</text><text x=\"255.234375\" y=\"0\" dx=\"0em\" dy=\"0.95em\" style=\"text-anchor: middle; visibility: inherit; font-family: Roboto, sans-serif; font-size: 12px; font-weight: 200;\" fill=\"rgb(255, 255, 255)\" stroke=\"none\" stroke-width=\"1px\">5.5k</text><text x=\"278.4375\" y=\"0\" dx=\"0em\" dy=\"0.95em\" style=\"text-anchor: middle; visibility: hidden; font-family: Roboto, sans-serif; font-size: 12px; font-weight: 200;\" fill=\"rgb(255, 255, 255)\" stroke=\"none\" stroke-width=\"1px\">6k</text></g><line x1=\"0\" y1=\"0\" x2=\"278.4375\" y2=\"0\" fill=\"rgb(0, 0, 0)\" stroke=\"rgb(204, 204, 204)\" stroke-width=\"1px\"/></g></g></g></g></svg>"
     },
     "execution_count": 54,
     "metadata": {},
     "output_type": "execute_result"
    }
   ],
   "source": [
    "from IPython.display import SVG\n",
    "\n",
    "SVG(\"../reports/figures/val_loss.svg\")"
   ],
   "metadata": {
    "collapsed": false,
    "ExecuteTime": {
     "end_time": "2023-12-02T20:52:23.821061Z",
     "start_time": "2023-12-02T20:52:23.814749Z"
    }
   }
  },
  {
   "cell_type": "code",
   "execution_count": 55,
   "outputs": [
    {
     "data": {
      "text/plain": "<IPython.core.display.SVG object>",
      "image/svg+xml": "<svg xmlns=\"http://www.w3.org/2000/svg\" viewBox=\"0 0 330 200\"><g><g><g><g><g><line x1=\"51.5625\" y1=\"176.921875\" x2=\"46.5625\" y2=\"176.921875\" style=\"visibility: inherit;\" fill=\"rgb(0, 0, 0)\" stroke=\"rgb(204, 204, 204)\" stroke-width=\"1px\"/><line x1=\"51.5625\" y1=\"157.26388888888886\" x2=\"46.5625\" y2=\"157.26388888888886\" style=\"visibility: inherit;\" fill=\"rgb(0, 0, 0)\" stroke=\"rgb(204, 204, 204)\" stroke-width=\"1px\"/><line x1=\"51.5625\" y1=\"137.60590277777771\" x2=\"46.5625\" y2=\"137.60590277777771\" style=\"visibility: inherit;\" fill=\"rgb(0, 0, 0)\" stroke=\"rgb(204, 204, 204)\" stroke-width=\"1px\"/><line x1=\"51.5625\" y1=\"117.9479166666666\" x2=\"46.5625\" y2=\"117.9479166666666\" style=\"visibility: inherit;\" fill=\"rgb(0, 0, 0)\" stroke=\"rgb(204, 204, 204)\" stroke-width=\"1px\"/><line x1=\"51.5625\" y1=\"98.28993055555546\" x2=\"46.5625\" y2=\"98.28993055555546\" style=\"visibility: inherit;\" fill=\"rgb(0, 0, 0)\" stroke=\"rgb(204, 204, 204)\" stroke-width=\"1px\"/><line x1=\"51.5625\" y1=\"78.63194444444433\" x2=\"46.5625\" y2=\"78.63194444444433\" style=\"visibility: inherit;\" fill=\"rgb(0, 0, 0)\" stroke=\"rgb(204, 204, 204)\" stroke-width=\"1px\"/><line x1=\"51.5625\" y1=\"58.97395833333318\" x2=\"46.5625\" y2=\"58.97395833333318\" style=\"visibility: inherit;\" fill=\"rgb(0, 0, 0)\" stroke=\"rgb(204, 204, 204)\" stroke-width=\"1px\"/><line x1=\"51.5625\" y1=\"39.315972222222044\" x2=\"46.5625\" y2=\"39.315972222222044\" style=\"visibility: inherit;\" fill=\"rgb(0, 0, 0)\" stroke=\"rgb(204, 204, 204)\" stroke-width=\"1px\"/><line x1=\"51.5625\" y1=\"19.65798611111114\" x2=\"46.5625\" y2=\"19.65798611111114\" style=\"visibility: inherit;\" fill=\"rgb(0, 0, 0)\" stroke=\"rgb(204, 204, 204)\" stroke-width=\"1px\"/></g><g transform=\"translate(41.5625, 0)\"><text x=\"0\" y=\"176.921875\" dx=\"0em\" dy=\"0.3em\" style=\"text-anchor: end; visibility: hidden; font-family: Roboto, sans-serif; font-size: 12px; font-weight: 200;\" fill=\"rgb(255, 255, 255)\" stroke=\"none\" stroke-width=\"1px\">0.98</text><text x=\"0\" y=\"157.26388888888886\" dx=\"0em\" dy=\"0.3em\" style=\"text-anchor: end; visibility: inherit; font-family: Roboto, sans-serif; font-size: 12px; font-weight: 200;\" fill=\"rgb(255, 255, 255)\" stroke=\"none\" stroke-width=\"1px\">1</text><text x=\"0\" y=\"137.60590277777771\" dx=\"0em\" dy=\"0.3em\" style=\"text-anchor: end; visibility: hidden; font-family: Roboto, sans-serif; font-size: 12px; font-weight: 200;\" fill=\"rgb(255, 255, 255)\" stroke=\"none\" stroke-width=\"1px\">1.02</text><text x=\"0\" y=\"117.9479166666666\" dx=\"0em\" dy=\"0.3em\" style=\"text-anchor: end; visibility: inherit; font-family: Roboto, sans-serif; font-size: 12px; font-weight: 200;\" fill=\"rgb(255, 255, 255)\" stroke=\"none\" stroke-width=\"1px\">1.04</text><text x=\"0\" y=\"98.28993055555546\" dx=\"0em\" dy=\"0.3em\" style=\"text-anchor: end; visibility: hidden; font-family: Roboto, sans-serif; font-size: 12px; font-weight: 200;\" fill=\"rgb(255, 255, 255)\" stroke=\"none\" stroke-width=\"1px\">1.06</text><text x=\"0\" y=\"78.63194444444433\" dx=\"0em\" dy=\"0.3em\" style=\"text-anchor: end; visibility: inherit; font-family: Roboto, sans-serif; font-size: 12px; font-weight: 200;\" fill=\"rgb(255, 255, 255)\" stroke=\"none\" stroke-width=\"1px\">1.08</text><text x=\"0\" y=\"58.97395833333318\" dx=\"0em\" dy=\"0.3em\" style=\"text-anchor: end; visibility: hidden; font-family: Roboto, sans-serif; font-size: 12px; font-weight: 200;\" fill=\"rgb(255, 255, 255)\" stroke=\"none\" stroke-width=\"1px\">1.1</text><text x=\"0\" y=\"39.315972222222044\" dx=\"0em\" dy=\"0.3em\" style=\"text-anchor: end; visibility: inherit; font-family: Roboto, sans-serif; font-size: 12px; font-weight: 200;\" fill=\"rgb(255, 255, 255)\" stroke=\"none\" stroke-width=\"1px\">1.12</text><text x=\"0\" y=\"19.65798611111114\" dx=\"0em\" dy=\"0.3em\" style=\"text-anchor: end; visibility: hidden; font-family: Roboto, sans-serif; font-size: 12px; font-weight: 200;\" fill=\"rgb(255, 255, 255)\" stroke=\"none\" stroke-width=\"1px\">1.14</text></g><line x1=\"51.5625\" y1=\"0\" x2=\"51.5625\" y2=\"176.921875\" fill=\"rgb(0, 0, 0)\" stroke=\"rgb(204, 204, 204)\" stroke-width=\"1px\"/></g></g><g transform=\"translate(51, 0)\" clip-path=\"url(#clip_0)\"><clipPath id=\"clip_0\"><rect width=\"278\" height=\"176\"/></clipPath><g><g><g><line x1=\"0\" y1=\"0\" x2=\"0\" y2=\"176.921875\" fill=\"rgb(0, 0, 0)\" stroke=\"rgb(189, 189, 189)\" stroke-width=\"1px\" opacity=\"0.25\"/><line x1=\"23.203125\" y1=\"0\" x2=\"23.203125\" y2=\"176.921875\" fill=\"rgb(0, 0, 0)\" stroke=\"rgb(189, 189, 189)\" stroke-width=\"1px\" opacity=\"0.25\"/><line x1=\"46.40625\" y1=\"0\" x2=\"46.40625\" y2=\"176.921875\" fill=\"rgb(0, 0, 0)\" stroke=\"rgb(189, 189, 189)\" stroke-width=\"1px\" opacity=\"0.25\"/><line x1=\"69.609375\" y1=\"0\" x2=\"69.609375\" y2=\"176.921875\" fill=\"rgb(0, 0, 0)\" stroke=\"rgb(189, 189, 189)\" stroke-width=\"1px\" opacity=\"0.25\"/><line x1=\"92.8125\" y1=\"0\" x2=\"92.8125\" y2=\"176.921875\" fill=\"rgb(0, 0, 0)\" stroke=\"rgb(189, 189, 189)\" stroke-width=\"1px\" opacity=\"0.25\"/><line x1=\"116.015625\" y1=\"0\" x2=\"116.015625\" y2=\"176.921875\" fill=\"rgb(0, 0, 0)\" stroke=\"rgb(189, 189, 189)\" stroke-width=\"1px\" opacity=\"0.25\"/><line x1=\"139.21875\" y1=\"0\" x2=\"139.21875\" y2=\"176.921875\" fill=\"rgb(0, 0, 0)\" stroke=\"rgb(189, 189, 189)\" stroke-width=\"1px\" opacity=\"0.25\"/><line x1=\"162.421875\" y1=\"0\" x2=\"162.421875\" y2=\"176.921875\" fill=\"rgb(0, 0, 0)\" stroke=\"rgb(189, 189, 189)\" stroke-width=\"1px\" opacity=\"0.25\"/><line x1=\"185.625\" y1=\"0\" x2=\"185.625\" y2=\"176.921875\" fill=\"rgb(0, 0, 0)\" stroke=\"rgb(189, 189, 189)\" stroke-width=\"1px\" opacity=\"0.25\"/><line x1=\"208.828125\" y1=\"0\" x2=\"208.828125\" y2=\"176.921875\" fill=\"rgb(0, 0, 0)\" stroke=\"rgb(189, 189, 189)\" stroke-width=\"1px\" opacity=\"0.25\"/><line x1=\"232.03125\" y1=\"0\" x2=\"232.03125\" y2=\"176.921875\" fill=\"rgb(0, 0, 0)\" stroke=\"rgb(189, 189, 189)\" stroke-width=\"1px\" opacity=\"0.25\"/><line x1=\"255.234375\" y1=\"0\" x2=\"255.234375\" y2=\"176.921875\" fill=\"rgb(0, 0, 0)\" stroke=\"rgb(189, 189, 189)\" stroke-width=\"1px\" opacity=\"0.25\"/><line x1=\"278.4375\" y1=\"0\" x2=\"278.4375\" y2=\"176.921875\" fill=\"rgb(0, 0, 0)\" stroke=\"rgb(189, 189, 189)\" stroke-width=\"1px\" opacity=\"0.25\"/></g><g><line x1=\"0\" y1=\"176.921875\" x2=\"278.4375\" y2=\"176.921875\" fill=\"rgb(0, 0, 0)\" stroke=\"rgb(189, 189, 189)\" stroke-width=\"1px\" opacity=\"0.25\"/><line x1=\"0\" y1=\"157.26388888888886\" x2=\"278.4375\" y2=\"157.26388888888886\" fill=\"rgb(0, 0, 0)\" stroke=\"rgb(189, 189, 189)\" stroke-width=\"1px\" opacity=\"0.25\"/><line x1=\"0\" y1=\"137.60590277777771\" x2=\"278.4375\" y2=\"137.60590277777771\" fill=\"rgb(0, 0, 0)\" stroke=\"rgb(189, 189, 189)\" stroke-width=\"1px\" opacity=\"0.25\"/><line x1=\"0\" y1=\"117.9479166666666\" x2=\"278.4375\" y2=\"117.9479166666666\" fill=\"rgb(0, 0, 0)\" stroke=\"rgb(189, 189, 189)\" stroke-width=\"1px\" opacity=\"0.25\"/><line x1=\"0\" y1=\"98.28993055555546\" x2=\"278.4375\" y2=\"98.28993055555546\" fill=\"rgb(0, 0, 0)\" stroke=\"rgb(189, 189, 189)\" stroke-width=\"1px\" opacity=\"0.25\"/><line x1=\"0\" y1=\"78.63194444444433\" x2=\"278.4375\" y2=\"78.63194444444433\" fill=\"rgb(0, 0, 0)\" stroke=\"rgb(189, 189, 189)\" stroke-width=\"1px\" opacity=\"0.25\"/><line x1=\"0\" y1=\"58.97395833333318\" x2=\"278.4375\" y2=\"58.97395833333318\" fill=\"rgb(0, 0, 0)\" stroke=\"rgb(189, 189, 189)\" stroke-width=\"1px\" opacity=\"0.25\"/><line x1=\"0\" y1=\"39.315972222222044\" x2=\"278.4375\" y2=\"39.315972222222044\" fill=\"rgb(0, 0, 0)\" stroke=\"rgb(189, 189, 189)\" stroke-width=\"1px\" opacity=\"0.25\"/><line x1=\"0\" y1=\"19.65798611111114\" x2=\"278.4375\" y2=\"19.65798611111114\" fill=\"rgb(0, 0, 0)\" stroke=\"rgb(189, 189, 189)\" stroke-width=\"1px\" opacity=\"0.25\"/></g></g></g><g><g><line x1=\"0\" y1=\"1140.1631944444448\" x2=\"278.4375\" y2=\"1140.1631944444448\" fill=\"rgb(0, 0, 0)\" stroke=\"rgb(153, 153, 153)\" stroke-width=\"1.5px\"/></g></g><g><g><line x1=\"0\" y1=\"0\" x2=\"0\" y2=\"176.921875\" fill=\"rgb(0, 0, 0)\" stroke=\"rgb(153, 153, 153)\" stroke-width=\"1.5px\"/></g></g><g><g><g><g><g><path stroke=\"rgb(255, 112, 67)\" stroke-width=\"2px\" d=\"M12.94734375,-78.92148268678133L19.44421875,8.069114547653761L25.94109375,51.90873514685417L32.43796875,79.09768696766534L38.93484375,95.87130352869978L45.431718749999995,108.12681735080562L51.92859375,116.20189065624764L58.42546875,122.22417530526565L64.92234375,127.39696831252739L71.41921875,130.33590860918375L77.91609375,133.3825736784692L84.41296874999999,134.863032825847L90.90984375000001,137.1764054530723L97.40671875,138.69432675189742L103.90359375,140.25894796403568L110.40046875,141.35780171779L116.89734375,142.443399068768L123.39421875,144.24795149243582L129.89109375,145.01494308590128L136.38796875,145.3559782846809L142.88484375,146.1358635934322L149.38171875,147.17178951536167L155.87859375,147.48072684928448L162.37546875,147.94837683301077L168.87234375,149.22618430455137L175.36921875000002,150.21432029487704L181.86609375,150.87965966444872L188.36296875,151.7374225544281L194.85984374999998,152.50685617324777L201.35671875,152.57993118207312L207.85359375000002,153.5561271715343L214.35046875,154.04028112368144L220.84734375,154.2478166024323L227.34421875,155.11632515263776L233.84109375,155.46781392572595L240.33796875,156.22908153382815L246.83484374999998,156.97567560932166L253.33171875000002,156.9415448088349L259.82859375,157.46117651671165\" style=\"fill: none;\" fill=\"none\"/></g></g></g></g><g opacity=\"0.2\"><g><g><g><path stroke=\"rgb(255, 112, 67)\" stroke-width=\"2px\" d=\"M6.45046875,-322.5077089497615L12.94734375,67.23025307100674L19.44421875,91.58008789271112L25.94109375,103.46412897151373L32.43796875,114.5955824649168L38.93484375,119.07525373457203L45.431718749999995,125.65239820463788L51.92859375,127.9754250562853L58.42546875,131.1058753939966L64.92234375,135.07796307032305L71.41921875,134.7176630819837L77.91609375,137.93599146563142L84.41296874999999,137.0788875909315L90.90984375000001,140.64193225610583L97.40671875,140.96942444062893L103.90359375,142.60477629014184L110.40046875,143.00561735033986L116.89734375,144.07151946218477L123.39421875,146.95450522253907L129.89109375,146.16536037003L136.38796875,145.86751237966945L142.88484375,147.30566589410103L149.38171875,148.72565794570576L155.87859375,147.94412919051115L162.37546875,148.6498484847446L168.87234375,151.14289006259705L175.36921875000002,151.69652175199653L181.86609375,151.87766769735347L188.36296875,153.02406609927613L194.85984374999998,153.66100617622334L201.35671875,152.68954367107813L207.85359375000002,155.0204209614959L214.35046875,154.76651199410355L220.84734375,154.5591198056936L227.34421875,156.41908794062005L233.84109375,155.99504707629478L240.33796875,157.3709829342034L246.83484374999998,158.09556671563118L253.33171875000002,156.89034860829508L259.82859375,158.24062407679025\" style=\"fill: none;\" fill=\"none\"/></g></g></g></g></g></g><g transform=\"translate(51, 176)\" clip-path=\"url(#clip_1)\"><clipPath id=\"clip_1\"><rect width=\"278\" height=\"23\"/></clipPath><g><g><line x1=\"0\" y1=\"0\" x2=\"0\" y2=\"5\" style=\"visibility: inherit;\" fill=\"rgb(0, 0, 0)\" stroke=\"rgb(204, 204, 204)\" stroke-width=\"1px\"/><line x1=\"23.203125\" y1=\"0\" x2=\"23.203125\" y2=\"5\" style=\"visibility: inherit;\" fill=\"rgb(0, 0, 0)\" stroke=\"rgb(204, 204, 204)\" stroke-width=\"1px\"/><line x1=\"46.40625\" y1=\"0\" x2=\"46.40625\" y2=\"5\" style=\"visibility: inherit;\" fill=\"rgb(0, 0, 0)\" stroke=\"rgb(204, 204, 204)\" stroke-width=\"1px\"/><line x1=\"69.609375\" y1=\"0\" x2=\"69.609375\" y2=\"5\" style=\"visibility: inherit;\" fill=\"rgb(0, 0, 0)\" stroke=\"rgb(204, 204, 204)\" stroke-width=\"1px\"/><line x1=\"92.8125\" y1=\"0\" x2=\"92.8125\" y2=\"5\" style=\"visibility: inherit;\" fill=\"rgb(0, 0, 0)\" stroke=\"rgb(204, 204, 204)\" stroke-width=\"1px\"/><line x1=\"116.015625\" y1=\"0\" x2=\"116.015625\" y2=\"5\" style=\"visibility: inherit;\" fill=\"rgb(0, 0, 0)\" stroke=\"rgb(204, 204, 204)\" stroke-width=\"1px\"/><line x1=\"139.21875\" y1=\"0\" x2=\"139.21875\" y2=\"5\" style=\"visibility: inherit;\" fill=\"rgb(0, 0, 0)\" stroke=\"rgb(204, 204, 204)\" stroke-width=\"1px\"/><line x1=\"162.421875\" y1=\"0\" x2=\"162.421875\" y2=\"5\" style=\"visibility: inherit;\" fill=\"rgb(0, 0, 0)\" stroke=\"rgb(204, 204, 204)\" stroke-width=\"1px\"/><line x1=\"185.625\" y1=\"0\" x2=\"185.625\" y2=\"5\" style=\"visibility: inherit;\" fill=\"rgb(0, 0, 0)\" stroke=\"rgb(204, 204, 204)\" stroke-width=\"1px\"/><line x1=\"208.828125\" y1=\"0\" x2=\"208.828125\" y2=\"5\" style=\"visibility: inherit;\" fill=\"rgb(0, 0, 0)\" stroke=\"rgb(204, 204, 204)\" stroke-width=\"1px\"/><line x1=\"232.03125\" y1=\"0\" x2=\"232.03125\" y2=\"5\" style=\"visibility: inherit;\" fill=\"rgb(0, 0, 0)\" stroke=\"rgb(204, 204, 204)\" stroke-width=\"1px\"/><line x1=\"255.234375\" y1=\"0\" x2=\"255.234375\" y2=\"5\" style=\"visibility: inherit;\" fill=\"rgb(0, 0, 0)\" stroke=\"rgb(204, 204, 204)\" stroke-width=\"1px\"/><line x1=\"278.4375\" y1=\"0\" x2=\"278.4375\" y2=\"5\" style=\"visibility: inherit;\" fill=\"rgb(0, 0, 0)\" stroke=\"rgb(204, 204, 204)\" stroke-width=\"1px\"/></g><g transform=\"translate(0, 8)\"><text x=\"0\" y=\"0\" dx=\"0em\" dy=\"0.95em\" style=\"text-anchor: middle; visibility: hidden; font-family: Roboto, sans-serif; font-size: 12px; font-weight: 200;\" fill=\"rgb(255, 255, 255)\" stroke=\"none\" stroke-width=\"1px\">0</text><text x=\"23.203125\" y=\"0\" dx=\"0em\" dy=\"0.95em\" style=\"text-anchor: middle; visibility: inherit; font-family: Roboto, sans-serif; font-size: 12px; font-weight: 200;\" fill=\"rgb(255, 255, 255)\" stroke=\"none\" stroke-width=\"1px\">500</text><text x=\"46.40625\" y=\"0\" dx=\"0em\" dy=\"0.95em\" style=\"text-anchor: middle; visibility: inherit; font-family: Roboto, sans-serif; font-size: 12px; font-weight: 200;\" fill=\"rgb(255, 255, 255)\" stroke=\"none\" stroke-width=\"1px\">1k</text><text x=\"69.609375\" y=\"0\" dx=\"0em\" dy=\"0.95em\" style=\"text-anchor: middle; visibility: inherit; font-family: Roboto, sans-serif; font-size: 12px; font-weight: 200;\" fill=\"rgb(255, 255, 255)\" stroke=\"none\" stroke-width=\"1px\">1.5k</text><text x=\"92.8125\" y=\"0\" dx=\"0em\" dy=\"0.95em\" style=\"text-anchor: middle; visibility: inherit; font-family: Roboto, sans-serif; font-size: 12px; font-weight: 200;\" fill=\"rgb(255, 255, 255)\" stroke=\"none\" stroke-width=\"1px\">2k</text><text x=\"116.015625\" y=\"0\" dx=\"0em\" dy=\"0.95em\" style=\"text-anchor: middle; visibility: inherit; font-family: Roboto, sans-serif; font-size: 12px; font-weight: 200;\" fill=\"rgb(255, 255, 255)\" stroke=\"none\" stroke-width=\"1px\">2.5k</text><text x=\"139.21875\" y=\"0\" dx=\"0em\" dy=\"0.95em\" style=\"text-anchor: middle; visibility: inherit; font-family: Roboto, sans-serif; font-size: 12px; font-weight: 200;\" fill=\"rgb(255, 255, 255)\" stroke=\"none\" stroke-width=\"1px\">3k</text><text x=\"162.421875\" y=\"0\" dx=\"0em\" dy=\"0.95em\" style=\"text-anchor: middle; visibility: inherit; font-family: Roboto, sans-serif; font-size: 12px; font-weight: 200;\" fill=\"rgb(255, 255, 255)\" stroke=\"none\" stroke-width=\"1px\">3.5k</text><text x=\"185.625\" y=\"0\" dx=\"0em\" dy=\"0.95em\" style=\"text-anchor: middle; visibility: inherit; font-family: Roboto, sans-serif; font-size: 12px; font-weight: 200;\" fill=\"rgb(255, 255, 255)\" stroke=\"none\" stroke-width=\"1px\">4k</text><text x=\"208.828125\" y=\"0\" dx=\"0em\" dy=\"0.95em\" style=\"text-anchor: middle; visibility: inherit; font-family: Roboto, sans-serif; font-size: 12px; font-weight: 200;\" fill=\"rgb(255, 255, 255)\" stroke=\"none\" stroke-width=\"1px\">4.5k</text><text x=\"232.03125\" y=\"0\" dx=\"0em\" dy=\"0.95em\" style=\"text-anchor: middle; visibility: inherit; font-family: Roboto, sans-serif; font-size: 12px; font-weight: 200;\" fill=\"rgb(255, 255, 255)\" stroke=\"none\" stroke-width=\"1px\">5k</text><text x=\"255.234375\" y=\"0\" dx=\"0em\" dy=\"0.95em\" style=\"text-anchor: middle; visibility: inherit; font-family: Roboto, sans-serif; font-size: 12px; font-weight: 200;\" fill=\"rgb(255, 255, 255)\" stroke=\"none\" stroke-width=\"1px\">5.5k</text><text x=\"278.4375\" y=\"0\" dx=\"0em\" dy=\"0.95em\" style=\"text-anchor: middle; visibility: hidden; font-family: Roboto, sans-serif; font-size: 12px; font-weight: 200;\" fill=\"rgb(255, 255, 255)\" stroke=\"none\" stroke-width=\"1px\">6k</text></g><line x1=\"0\" y1=\"0\" x2=\"278.4375\" y2=\"0\" fill=\"rgb(0, 0, 0)\" stroke=\"rgb(204, 204, 204)\" stroke-width=\"1px\"/></g></g></g></g></svg>"
     },
     "execution_count": 55,
     "metadata": {},
     "output_type": "execute_result"
    }
   ],
   "source": [
    "SVG(\"../reports/figures/train_loss_epoch.svg\")"
   ],
   "metadata": {
    "collapsed": false,
    "ExecuteTime": {
     "end_time": "2023-12-02T20:52:33.012678Z",
     "start_time": "2023-12-02T20:52:32.999164Z"
    }
   }
  }
 ],
 "metadata": {
  "kernelspec": {
   "display_name": "Python 3",
   "language": "python",
   "name": "python3"
  },
  "language_info": {
   "codemirror_mode": {
    "name": "ipython",
    "version": 2
   },
   "file_extension": ".py",
   "mimetype": "text/x-python",
   "name": "python",
   "nbconvert_exporter": "python",
   "pygments_lexer": "ipython2",
   "version": "2.7.6"
  }
 },
 "nbformat": 4,
 "nbformat_minor": 0
}
