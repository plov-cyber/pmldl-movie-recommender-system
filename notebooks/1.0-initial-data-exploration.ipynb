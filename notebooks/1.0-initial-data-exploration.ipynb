{
 "cells": [
  {
   "cell_type": "markdown",
   "source": [
    "# 1.0 Initial Data Exploration"
   ],
   "metadata": {
    "collapsed": false
   }
  },
  {
   "cell_type": "code",
   "execution_count": 51,
   "outputs": [],
   "source": [
    "RANDOM_SEED = 42"
   ],
   "metadata": {
    "collapsed": false,
    "ExecuteTime": {
     "end_time": "2023-11-30T17:23:54.110335Z",
     "start_time": "2023-11-30T17:23:54.106992Z"
    }
   }
  },
  {
   "cell_type": "markdown",
   "source": [
    "## Downloading and Extracting the Dataset"
   ],
   "metadata": {
    "collapsed": false
   }
  },
  {
   "cell_type": "code",
   "execution_count": 52,
   "outputs": [],
   "source": [
    "from urllib.request import urlretrieve\n",
    "import zipfile\n",
    "\n",
    "url = 'https://files.grouplens.org/datasets/movielens/ml-100k.zip'\n",
    "filepath = '../data/raw/ml-100k.zip'\n",
    "extractpath = '../data/raw/'\n",
    "\n",
    "\n",
    "def download_data():\n",
    "    urlretrieve(url, filepath)\n",
    "    with zipfile.ZipFile(filepath, 'r') as zip_ref:\n",
    "        zip_ref.extractall(extractpath)"
   ],
   "metadata": {
    "collapsed": false,
    "ExecuteTime": {
     "end_time": "2023-11-30T17:23:55.066348Z",
     "start_time": "2023-11-30T17:23:55.063205Z"
    }
   }
  },
  {
   "cell_type": "code",
   "execution_count": 53,
   "outputs": [],
   "source": [
    "download_data()"
   ],
   "metadata": {
    "collapsed": false,
    "ExecuteTime": {
     "end_time": "2023-11-30T17:23:58.312303Z",
     "start_time": "2023-11-30T17:23:55.207940Z"
    }
   }
  },
  {
   "cell_type": "markdown",
   "source": [
    "## Loading the Dataset"
   ],
   "metadata": {
    "collapsed": false
   }
  },
  {
   "cell_type": "code",
   "execution_count": 54,
   "outputs": [],
   "source": [
    "import pandas as pd\n",
    "\n",
    "# Load the u.data file into a dataframe\n",
    "ratings_df = pd.read_csv('../data/raw/ml-100k/u.data', sep='\\t', header=None,\n",
    "                         names=['user_id', 'item_id', 'rating', 'timestamp'])\n",
    "\n",
    "# Load the u.item file into a dataframe\n",
    "movies_df = pd.read_csv('../data/raw/ml-100k/u.item', sep='|', header=None,\n",
    "                        encoding='latin-1',\n",
    "                        names=['item_id', 'title', 'release_date', 'video_release_date', 'imdb_url', 'unknown', 'action',\n",
    "                               'adventure', 'animation', 'childrens', 'comedy', 'crime', 'documentary', 'drama', 'fantasy',\n",
    "                               'film_noir', 'horror', 'musical', 'mystery', 'romance', 'sci_fi', 'thriller', 'war',\n",
    "                               'western'], index_col='item_id')\n",
    "\n",
    "# Load the u.user file into a dataframe\n",
    "users_df = pd.read_csv('../data/raw/ml-100k/u.user', sep='|', header=None, names=['user_id', 'age', 'gender', 'occupation', 'zip_code'], index_col='user_id')\n",
    "\n",
    "# Load the u.genre file into a dataframe\n",
    "genres_df = pd.read_csv('../data/raw/ml-100k/u.genre', sep='|', header=None, names=['genre', 'genre_id'], index_col='genre_id')\n",
    "\n",
    "# Load the u.occupation file into a dataframe\n",
    "occupations_df = pd.read_csv('../data/raw/ml-100k/u.occupation', sep='|', header=None, names=['occupation'])\n",
    "\n",
    "# Load the u.info file into a dataframe\n",
    "info_df = pd.read_csv('../data/raw/ml-100k/u.info', sep=' ', header=None, names=['count', 'info'], index_col='info')"
   ],
   "metadata": {
    "collapsed": false,
    "ExecuteTime": {
     "end_time": "2023-11-30T17:23:58.341941Z",
     "start_time": "2023-11-30T17:23:58.313316Z"
    }
   }
  },
  {
   "cell_type": "markdown",
   "source": [
    "Based on all those datasets, we will build our own dataset, which will be used for the recommender system."
   ],
   "metadata": {
    "collapsed": false
   }
  },
  {
   "cell_type": "markdown",
   "source": [
    "## Data Exploration"
   ],
   "metadata": {
    "collapsed": false
   }
  },
  {
   "cell_type": "code",
   "execution_count": 55,
   "outputs": [],
   "source": [
    "df_dict = {\n",
    "    'Ratings Dataframe': ratings_df,\n",
    "    'Movies Dataframe': movies_df,\n",
    "    'Users Dataframe': users_df,\n",
    "    'Genres Dataframe': genres_df,\n",
    "    'Occupations Dataframe': occupations_df,\n",
    "    'Info Dataframe': info_df\n",
    "}"
   ],
   "metadata": {
    "collapsed": false,
    "ExecuteTime": {
     "end_time": "2023-11-30T17:23:58.342150Z",
     "start_time": "2023-11-30T17:23:58.335336Z"
    }
   }
  },
  {
   "cell_type": "code",
   "execution_count": 56,
   "outputs": [
    {
     "name": "stdout",
     "output_type": "stream",
     "text": [
      "Ratings Dataframe shape: (100000, 4)\n",
      "Movies Dataframe shape: (1682, 23)\n",
      "Users Dataframe shape: (943, 4)\n",
      "Genres Dataframe shape: (19, 1)\n",
      "Occupations Dataframe shape: (21, 1)\n",
      "Info Dataframe shape: (3, 1)\n"
     ]
    }
   ],
   "source": [
    "for df_name, df in df_dict.items():\n",
    "    print(f'{df_name} shape: {df.shape}')"
   ],
   "metadata": {
    "collapsed": false,
    "ExecuteTime": {
     "end_time": "2023-11-30T17:23:58.342290Z",
     "start_time": "2023-11-30T17:23:58.338559Z"
    }
   }
  },
  {
   "cell_type": "markdown",
   "source": [
    "## 1) Exploring the Users Dataframe"
   ],
   "metadata": {
    "collapsed": false
   }
  },
  {
   "cell_type": "code",
   "execution_count": 57,
   "outputs": [
    {
     "data": {
      "text/plain": "         age gender  occupation zip_code\nuser_id                                 \n1         24      M  technician    85711\n2         53      F       other    94043\n3         23      M      writer    32067\n4         24      M  technician    43537\n5         33      F       other    15213",
      "text/html": "<div>\n<style scoped>\n    .dataframe tbody tr th:only-of-type {\n        vertical-align: middle;\n    }\n\n    .dataframe tbody tr th {\n        vertical-align: top;\n    }\n\n    .dataframe thead th {\n        text-align: right;\n    }\n</style>\n<table border=\"1\" class=\"dataframe\">\n  <thead>\n    <tr style=\"text-align: right;\">\n      <th></th>\n      <th>age</th>\n      <th>gender</th>\n      <th>occupation</th>\n      <th>zip_code</th>\n    </tr>\n    <tr>\n      <th>user_id</th>\n      <th></th>\n      <th></th>\n      <th></th>\n      <th></th>\n    </tr>\n  </thead>\n  <tbody>\n    <tr>\n      <th>1</th>\n      <td>24</td>\n      <td>M</td>\n      <td>technician</td>\n      <td>85711</td>\n    </tr>\n    <tr>\n      <th>2</th>\n      <td>53</td>\n      <td>F</td>\n      <td>other</td>\n      <td>94043</td>\n    </tr>\n    <tr>\n      <th>3</th>\n      <td>23</td>\n      <td>M</td>\n      <td>writer</td>\n      <td>32067</td>\n    </tr>\n    <tr>\n      <th>4</th>\n      <td>24</td>\n      <td>M</td>\n      <td>technician</td>\n      <td>43537</td>\n    </tr>\n    <tr>\n      <th>5</th>\n      <td>33</td>\n      <td>F</td>\n      <td>other</td>\n      <td>15213</td>\n    </tr>\n  </tbody>\n</table>\n</div>"
     },
     "execution_count": 57,
     "metadata": {},
     "output_type": "execute_result"
    }
   ],
   "source": [
    "users_df.head()"
   ],
   "metadata": {
    "collapsed": false,
    "ExecuteTime": {
     "end_time": "2023-11-30T17:23:58.345717Z",
     "start_time": "2023-11-30T17:23:58.343053Z"
    }
   }
  },
  {
   "cell_type": "code",
   "execution_count": 58,
   "outputs": [
    {
     "name": "stdout",
     "output_type": "stream",
     "text": [
      "<class 'pandas.core.frame.DataFrame'>\n",
      "Index: 943 entries, 1 to 943\n",
      "Data columns (total 4 columns):\n",
      " #   Column      Non-Null Count  Dtype \n",
      "---  ------      --------------  ----- \n",
      " 0   age         943 non-null    int64 \n",
      " 1   gender      943 non-null    object\n",
      " 2   occupation  943 non-null    object\n",
      " 3   zip_code    943 non-null    object\n",
      "dtypes: int64(1), object(3)\n",
      "memory usage: 36.8+ KB\n"
     ]
    }
   ],
   "source": [
    "users_df.info()"
   ],
   "metadata": {
    "collapsed": false,
    "ExecuteTime": {
     "end_time": "2023-11-30T17:23:58.350460Z",
     "start_time": "2023-11-30T17:23:58.347836Z"
    }
   }
  },
  {
   "cell_type": "markdown",
   "source": [
    "#### 1.1) Age Distribution"
   ],
   "metadata": {
    "collapsed": false
   }
  },
  {
   "cell_type": "code",
   "execution_count": 59,
   "outputs": [
    {
     "data": {
      "text/plain": "count    943.000000\nmean      34.051962\nstd       12.192740\nmin        7.000000\n25%       25.000000\n50%       31.000000\n75%       43.000000\nmax       73.000000\nName: age, dtype: float64"
     },
     "execution_count": 59,
     "metadata": {},
     "output_type": "execute_result"
    }
   ],
   "source": [
    "users_df['age'].describe()"
   ],
   "metadata": {
    "collapsed": false,
    "ExecuteTime": {
     "end_time": "2023-11-30T17:23:58.354895Z",
     "start_time": "2023-11-30T17:23:58.350973Z"
    }
   }
  },
  {
   "cell_type": "code",
   "execution_count": 60,
   "outputs": [
    {
     "data": {
      "text/plain": "<Figure size 1500x500 with 1 Axes>",
      "image/png": "[encoded data removed]"
     },
     "metadata": {},
     "output_type": "display_data"
    }
   ],
   "source": [
    "import matplotlib.pyplot as plt\n",
    "\n",
    "plt.figure(figsize=(15, 5))\n",
    "plt.hist(users_df['age'], bins=30)\n",
    "plt.title('Age Distribution')\n",
    "plt.xlabel('Age')\n",
    "plt.ylabel('Count')\n",
    "plt.show()"
   ],
   "metadata": {
    "collapsed": false,
    "ExecuteTime": {
     "end_time": "2023-11-30T17:23:58.444055Z",
     "start_time": "2023-11-30T17:23:58.355960Z"
    }
   }
  },
  {
   "cell_type": "markdown",
   "source": [
    "### 1.2) Gender Statistics"
   ],
   "metadata": {
    "collapsed": false
   }
  },
  {
   "cell_type": "code",
   "execution_count": 61,
   "outputs": [
    {
     "data": {
      "text/plain": "gender\nM    670\nF    273\nName: count, dtype: int64"
     },
     "execution_count": 61,
     "metadata": {},
     "output_type": "execute_result"
    }
   ],
   "source": [
    "users_df['gender'].value_counts()"
   ],
   "metadata": {
    "collapsed": false,
    "ExecuteTime": {
     "end_time": "2023-11-30T17:23:58.444283Z",
     "start_time": "2023-11-30T17:23:58.435987Z"
    }
   }
  },
  {
   "cell_type": "markdown",
   "source": [
    "### 1.3) Occupation Statistics"
   ],
   "metadata": {
    "collapsed": false
   }
  },
  {
   "cell_type": "code",
   "execution_count": 62,
   "outputs": [
    {
     "data": {
      "text/plain": "occupation\nstudent          196\nother            105\neducator          95\nadministrator     79\nengineer          67\nprogrammer        66\nlibrarian         51\nwriter            45\nexecutive         32\nscientist         31\nartist            28\ntechnician        27\nmarketing         26\nentertainment     18\nhealthcare        16\nretired           14\nlawyer            12\nsalesman          12\nnone               9\nhomemaker          7\ndoctor             7\nName: count, dtype: int64"
     },
     "execution_count": 62,
     "metadata": {},
     "output_type": "execute_result"
    }
   ],
   "source": [
    "users_df['occupation'].value_counts()"
   ],
   "metadata": {
    "collapsed": false,
    "ExecuteTime": {
     "end_time": "2023-11-30T17:23:58.444400Z",
     "start_time": "2023-11-30T17:23:58.440685Z"
    }
   }
  },
  {
   "cell_type": "markdown",
   "source": [
    "### 1.4) Zip Code Statistics"
   ],
   "metadata": {
    "collapsed": false
   }
  },
  {
   "cell_type": "code",
   "execution_count": 13,
   "outputs": [
    {
     "name": "stdout",
     "output_type": "stream",
     "text": [
      "Number of distinct zip codes: 795\n"
     ]
    }
   ],
   "source": [
    "print(\"Number of distinct zip codes:\", users_df['zip_code'].nunique())"
   ],
   "metadata": {
    "collapsed": false,
    "ExecuteTime": {
     "end_time": "2023-11-30T17:18:57.385688Z",
     "start_time": "2023-11-30T17:18:57.381575Z"
    }
   }
  },
  {
   "cell_type": "code",
   "execution_count": 49,
   "outputs": [
    {
     "data": {
      "text/plain": "count       943\nunique      795\ntop       55414\nfreq          9\nName: zip_code, dtype: object"
     },
     "execution_count": 49,
     "metadata": {},
     "output_type": "execute_result"
    }
   ],
   "source": [
    "users_df['zip_code'].describe()"
   ],
   "metadata": {
    "collapsed": false,
    "ExecuteTime": {
     "end_time": "2023-11-30T17:23:02.756391Z",
     "start_time": "2023-11-30T17:23:02.750380Z"
    }
   }
  },
  {
   "cell_type": "code",
   "execution_count": 14,
   "outputs": [
    {
     "data": {
      "text/plain": "zip_code\n55414    9\n55105    6\n55337    5\n10003    5\n20009    5\n        ..\n24060    1\n55413    1\n19149    1\n02176    1\n77841    1\nName: count, Length: 795, dtype: int64"
     },
     "execution_count": 14,
     "metadata": {},
     "output_type": "execute_result"
    }
   ],
   "source": [
    "users_df['zip_code'].value_counts()"
   ],
   "metadata": {
    "collapsed": false,
    "ExecuteTime": {
     "end_time": "2023-11-30T17:18:57.388386Z",
     "start_time": "2023-11-30T17:18:57.385866Z"
    }
   }
  },
  {
   "cell_type": "markdown",
   "source": [
    "## 2. Exploring the Movies Dataframe"
   ],
   "metadata": {
    "collapsed": false
   }
  },
  {
   "cell_type": "code",
   "execution_count": 15,
   "outputs": [
    {
     "data": {
      "text/plain": "                     title release_date  video_release_date  \\\nitem_id                                                       \n1         Toy Story (1995)  01-Jan-1995                 NaN   \n2         GoldenEye (1995)  01-Jan-1995                 NaN   \n3        Four Rooms (1995)  01-Jan-1995                 NaN   \n4        Get Shorty (1995)  01-Jan-1995                 NaN   \n5           Copycat (1995)  01-Jan-1995                 NaN   \n\n                                                  imdb_url  unknown  action  \\\nitem_id                                                                       \n1        http://us.imdb.com/M/title-exact?Toy%20Story%2...        0       0   \n2        http://us.imdb.com/M/title-exact?GoldenEye%20(...        0       1   \n3        http://us.imdb.com/M/title-exact?Four%20Rooms%...        0       0   \n4        http://us.imdb.com/M/title-exact?Get%20Shorty%...        0       1   \n5        http://us.imdb.com/M/title-exact?Copycat%20(1995)        0       0   \n\n         adventure  animation  childrens  comedy  ...  fantasy  film_noir  \\\nitem_id                                           ...                       \n1                0          1          1       1  ...        0          0   \n2                1          0          0       0  ...        0          0   \n3                0          0          0       0  ...        0          0   \n4                0          0          0       1  ...        0          0   \n5                0          0          0       0  ...        0          0   \n\n         horror  musical  mystery  romance  sci_fi  thriller  war  western  \nitem_id                                                                     \n1             0        0        0        0       0         0    0        0  \n2             0        0        0        0       0         1    0        0  \n3             0        0        0        0       0         1    0        0  \n4             0        0        0        0       0         0    0        0  \n5             0        0        0        0       0         1    0        0  \n\n[5 rows x 23 columns]",
      "text/html": "<div>\n<style scoped>\n    .dataframe tbody tr th:only-of-type {\n        vertical-align: middle;\n    }\n\n    .dataframe tbody tr th {\n        vertical-align: top;\n    }\n\n    .dataframe thead th {\n        text-align: right;\n    }\n</style>\n<table border=\"1\" class=\"dataframe\">\n  <thead>\n    <tr style=\"text-align: right;\">\n      <th></th>\n      <th>title</th>\n      <th>release_date</th>\n      <th>video_release_date</th>\n      <th>imdb_url</th>\n      <th>unknown</th>\n      <th>action</th>\n      <th>adventure</th>\n      <th>animation</th>\n      <th>childrens</th>\n      <th>comedy</th>\n      <th>...</th>\n      <th>fantasy</th>\n      <th>film_noir</th>\n      <th>horror</th>\n      <th>musical</th>\n      <th>mystery</th>\n      <th>romance</th>\n      <th>sci_fi</th>\n      <th>thriller</th>\n      <th>war</th>\n      <th>western</th>\n    </tr>\n    <tr>\n      <th>item_id</th>\n      <th></th>\n      <th></th>\n      <th></th>\n      <th></th>\n      <th></th>\n      <th></th>\n      <th></th>\n      <th></th>\n      <th></th>\n      <th></th>\n      <th></th>\n      <th></th>\n      <th></th>\n      <th></th>\n      <th></th>\n      <th></th>\n      <th></th>\n      <th></th>\n      <th></th>\n      <th></th>\n      <th></th>\n    </tr>\n  </thead>\n  <tbody>\n    <tr>\n      <th>1</th>\n      <td>Toy Story (1995)</td>\n      <td>01-Jan-1995</td>\n      <td>NaN</td>\n      <td>http://us.imdb.com/M/title-exact?Toy%20Story%2...</td>\n      <td>0</td>\n      <td>0</td>\n      <td>0</td>\n      <td>1</td>\n      <td>1</td>\n      <td>1</td>\n      <td>...</td>\n      <td>0</td>\n      <td>0</td>\n      <td>0</td>\n      <td>0</td>\n      <td>0</td>\n      <td>0</td>\n      <td>0</td>\n      <td>0</td>\n      <td>0</td>\n      <td>0</td>\n    </tr>\n    <tr>\n      <th>2</th>\n      <td>GoldenEye (1995)</td>\n      <td>01-Jan-1995</td>\n      <td>NaN</td>\n      <td>http://us.imdb.com/M/title-exact?GoldenEye%20(...</td>\n      <td>0</td>\n      <td>1</td>\n      <td>1</td>\n      <td>0</td>\n      <td>0</td>\n      <td>0</td>\n      <td>...</td>\n      <td>0</td>\n      <td>0</td>\n      <td>0</td>\n      <td>0</td>\n      <td>0</td>\n      <td>0</td>\n      <td>0</td>\n      <td>1</td>\n      <td>0</td>\n      <td>0</td>\n    </tr>\n    <tr>\n      <th>3</th>\n      <td>Four Rooms (1995)</td>\n      <td>01-Jan-1995</td>\n      <td>NaN</td>\n      <td>http://us.imdb.com/M/title-exact?Four%20Rooms%...</td>\n      <td>0</td>\n      <td>0</td>\n      <td>0</td>\n      <td>0</td>\n      <td>0</td>\n      <td>0</td>\n      <td>...</td>\n      <td>0</td>\n      <td>0</td>\n      <td>0</td>\n      <td>0</td>\n      <td>0</td>\n      <td>0</td>\n      <td>0</td>\n      <td>1</td>\n      <td>0</td>\n      <td>0</td>\n    </tr>\n    <tr>\n      <th>4</th>\n      <td>Get Shorty (1995)</td>\n      <td>01-Jan-1995</td>\n      <td>NaN</td>\n      <td>http://us.imdb.com/M/title-exact?Get%20Shorty%...</td>\n      <td>0</td>\n      <td>1</td>\n      <td>0</td>\n      <td>0</td>\n      <td>0</td>\n      <td>1</td>\n      <td>...</td>\n      <td>0</td>\n      <td>0</td>\n      <td>0</td>\n      <td>0</td>\n      <td>0</td>\n      <td>0</td>\n      <td>0</td>\n      <td>0</td>\n      <td>0</td>\n      <td>0</td>\n    </tr>\n    <tr>\n      <th>5</th>\n      <td>Copycat (1995)</td>\n      <td>01-Jan-1995</td>\n      <td>NaN</td>\n      <td>http://us.imdb.com/M/title-exact?Copycat%20(1995)</td>\n      <td>0</td>\n      <td>0</td>\n      <td>0</td>\n      <td>0</td>\n      <td>0</td>\n      <td>0</td>\n      <td>...</td>\n      <td>0</td>\n      <td>0</td>\n      <td>0</td>\n      <td>0</td>\n      <td>0</td>\n      <td>0</td>\n      <td>0</td>\n      <td>1</td>\n      <td>0</td>\n      <td>0</td>\n    </tr>\n  </tbody>\n</table>\n<p>5 rows × 23 columns</p>\n</div>"
     },
     "execution_count": 15,
     "metadata": {},
     "output_type": "execute_result"
    }
   ],
   "source": [
    "movies_df.head()"
   ],
   "metadata": {
    "collapsed": false,
    "ExecuteTime": {
     "end_time": "2023-11-30T17:18:57.445547Z",
     "start_time": "2023-11-30T17:18:57.393062Z"
    }
   }
  },
  {
   "cell_type": "code",
   "execution_count": 16,
   "outputs": [
    {
     "name": "stdout",
     "output_type": "stream",
     "text": [
      "<class 'pandas.core.frame.DataFrame'>\n",
      "Index: 1682 entries, 1 to 1682\n",
      "Data columns (total 23 columns):\n",
      " #   Column              Non-Null Count  Dtype  \n",
      "---  ------              --------------  -----  \n",
      " 0   title               1682 non-null   object \n",
      " 1   release_date        1681 non-null   object \n",
      " 2   video_release_date  0 non-null      float64\n",
      " 3   imdb_url            1679 non-null   object \n",
      " 4   unknown             1682 non-null   int64  \n",
      " 5   action              1682 non-null   int64  \n",
      " 6   adventure           1682 non-null   int64  \n",
      " 7   animation           1682 non-null   int64  \n",
      " 8   childrens           1682 non-null   int64  \n",
      " 9   comedy              1682 non-null   int64  \n",
      " 10  crime               1682 non-null   int64  \n",
      " 11  documentary         1682 non-null   int64  \n",
      " 12  drama               1682 non-null   int64  \n",
      " 13  fantasy             1682 non-null   int64  \n",
      " 14  film_noir           1682 non-null   int64  \n",
      " 15  horror              1682 non-null   int64  \n",
      " 16  musical             1682 non-null   int64  \n",
      " 17  mystery             1682 non-null   int64  \n",
      " 18  romance             1682 non-null   int64  \n",
      " 19  sci_fi              1682 non-null   int64  \n",
      " 20  thriller            1682 non-null   int64  \n",
      " 21  war                 1682 non-null   int64  \n",
      " 22  western             1682 non-null   int64  \n",
      "dtypes: float64(1), int64(19), object(3)\n",
      "memory usage: 315.4+ KB\n"
     ]
    }
   ],
   "source": [
    "movies_df.info()"
   ],
   "metadata": {
    "collapsed": false,
    "ExecuteTime": {
     "end_time": "2023-11-30T17:18:57.445703Z",
     "start_time": "2023-11-30T17:18:57.399313Z"
    }
   }
  },
  {
   "cell_type": "markdown",
   "source": [
    "### 2.1) Handling Missing Values"
   ],
   "metadata": {
    "collapsed": false
   }
  },
  {
   "cell_type": "markdown",
   "source": [
    "Let's remove columns containing null values: **video_release_data** and **imdb_url**. They are not useful for our recommender system."
   ],
   "metadata": {
    "collapsed": false
   }
  },
  {
   "cell_type": "code",
   "execution_count": 17,
   "outputs": [],
   "source": [
    "movies_df.drop(['video_release_date', 'imdb_url'], axis=1, inplace=True)"
   ],
   "metadata": {
    "collapsed": false,
    "ExecuteTime": {
     "end_time": "2023-11-30T17:18:57.445747Z",
     "start_time": "2023-11-30T17:18:57.401783Z"
    }
   }
  },
  {
   "cell_type": "code",
   "execution_count": 18,
   "outputs": [
    {
     "data": {
      "text/plain": "title           0\nrelease_date    1\nunknown         0\naction          0\nadventure       0\nanimation       0\nchildrens       0\ncomedy          0\ncrime           0\ndocumentary     0\ndrama           0\nfantasy         0\nfilm_noir       0\nhorror          0\nmusical         0\nmystery         0\nromance         0\nsci_fi          0\nthriller        0\nwar             0\nwestern         0\ndtype: int64"
     },
     "execution_count": 18,
     "metadata": {},
     "output_type": "execute_result"
    }
   ],
   "source": [
    "movies_df.isnull().sum()"
   ],
   "metadata": {
    "collapsed": false,
    "ExecuteTime": {
     "end_time": "2023-11-30T17:18:57.445831Z",
     "start_time": "2023-11-30T17:18:57.404486Z"
    }
   }
  },
  {
   "cell_type": "code",
   "execution_count": 19,
   "outputs": [
    {
     "data": {
      "text/plain": "           title release_date  unknown  action  adventure  animation  \\\nitem_id                                                                \n267      unknown          NaN        1       0          0          0   \n\n         childrens  comedy  crime  documentary  ...  fantasy  film_noir  \\\nitem_id                                         ...                       \n267              0       0      0            0  ...        0          0   \n\n         horror  musical  mystery  romance  sci_fi  thriller  war  western  \nitem_id                                                                     \n267           0        0        0        0       0         0    0        0  \n\n[1 rows x 21 columns]",
      "text/html": "<div>\n<style scoped>\n    .dataframe tbody tr th:only-of-type {\n        vertical-align: middle;\n    }\n\n    .dataframe tbody tr th {\n        vertical-align: top;\n    }\n\n    .dataframe thead th {\n        text-align: right;\n    }\n</style>\n<table border=\"1\" class=\"dataframe\">\n  <thead>\n    <tr style=\"text-align: right;\">\n      <th></th>\n      <th>title</th>\n      <th>release_date</th>\n      <th>unknown</th>\n      <th>action</th>\n      <th>adventure</th>\n      <th>animation</th>\n      <th>childrens</th>\n      <th>comedy</th>\n      <th>crime</th>\n      <th>documentary</th>\n      <th>...</th>\n      <th>fantasy</th>\n      <th>film_noir</th>\n      <th>horror</th>\n      <th>musical</th>\n      <th>mystery</th>\n      <th>romance</th>\n      <th>sci_fi</th>\n      <th>thriller</th>\n      <th>war</th>\n      <th>western</th>\n    </tr>\n    <tr>\n      <th>item_id</th>\n      <th></th>\n      <th></th>\n      <th></th>\n      <th></th>\n      <th></th>\n      <th></th>\n      <th></th>\n      <th></th>\n      <th></th>\n      <th></th>\n      <th></th>\n      <th></th>\n      <th></th>\n      <th></th>\n      <th></th>\n      <th></th>\n      <th></th>\n      <th></th>\n      <th></th>\n      <th></th>\n      <th></th>\n    </tr>\n  </thead>\n  <tbody>\n    <tr>\n      <th>267</th>\n      <td>unknown</td>\n      <td>NaN</td>\n      <td>1</td>\n      <td>0</td>\n      <td>0</td>\n      <td>0</td>\n      <td>0</td>\n      <td>0</td>\n      <td>0</td>\n      <td>0</td>\n      <td>...</td>\n      <td>0</td>\n      <td>0</td>\n      <td>0</td>\n      <td>0</td>\n      <td>0</td>\n      <td>0</td>\n      <td>0</td>\n      <td>0</td>\n      <td>0</td>\n      <td>0</td>\n    </tr>\n  </tbody>\n</table>\n<p>1 rows × 21 columns</p>\n</div>"
     },
     "execution_count": 19,
     "metadata": {},
     "output_type": "execute_result"
    }
   ],
   "source": [
    "movies_df[movies_df['release_date'].isnull()]"
   ],
   "metadata": {
    "collapsed": false,
    "ExecuteTime": {
     "end_time": "2023-11-30T17:18:57.445901Z",
     "start_time": "2023-11-30T17:18:57.411953Z"
    }
   }
  },
  {
   "cell_type": "code",
   "execution_count": 20,
   "outputs": [
    {
     "name": "stdout",
     "output_type": "stream",
     "text": [
      "Ratings with item_id=267:\n"
     ]
    },
    {
     "data": {
      "text/plain": "       user_id  item_id  rating  timestamp\n2172       130      267       5  875801239\n3781         5      267       4  875635064\n7245       268      267       3  875742077\n12475      297      267       3  875409139\n14756      319      267       4  875707690\n15292        1      267       4  875692955\n49295      532      267       3  875441348\n93523      833      267       1  875655669\n99723      422      267       4  875655986",
      "text/html": "<div>\n<style scoped>\n    .dataframe tbody tr th:only-of-type {\n        vertical-align: middle;\n    }\n\n    .dataframe tbody tr th {\n        vertical-align: top;\n    }\n\n    .dataframe thead th {\n        text-align: right;\n    }\n</style>\n<table border=\"1\" class=\"dataframe\">\n  <thead>\n    <tr style=\"text-align: right;\">\n      <th></th>\n      <th>user_id</th>\n      <th>item_id</th>\n      <th>rating</th>\n      <th>timestamp</th>\n    </tr>\n  </thead>\n  <tbody>\n    <tr>\n      <th>2172</th>\n      <td>130</td>\n      <td>267</td>\n      <td>5</td>\n      <td>875801239</td>\n    </tr>\n    <tr>\n      <th>3781</th>\n      <td>5</td>\n      <td>267</td>\n      <td>4</td>\n      <td>875635064</td>\n    </tr>\n    <tr>\n      <th>7245</th>\n      <td>268</td>\n      <td>267</td>\n      <td>3</td>\n      <td>875742077</td>\n    </tr>\n    <tr>\n      <th>12475</th>\n      <td>297</td>\n      <td>267</td>\n      <td>3</td>\n      <td>875409139</td>\n    </tr>\n    <tr>\n      <th>14756</th>\n      <td>319</td>\n      <td>267</td>\n      <td>4</td>\n      <td>875707690</td>\n    </tr>\n    <tr>\n      <th>15292</th>\n      <td>1</td>\n      <td>267</td>\n      <td>4</td>\n      <td>875692955</td>\n    </tr>\n    <tr>\n      <th>49295</th>\n      <td>532</td>\n      <td>267</td>\n      <td>3</td>\n      <td>875441348</td>\n    </tr>\n    <tr>\n      <th>93523</th>\n      <td>833</td>\n      <td>267</td>\n      <td>1</td>\n      <td>875655669</td>\n    </tr>\n    <tr>\n      <th>99723</th>\n      <td>422</td>\n      <td>267</td>\n      <td>4</td>\n      <td>875655986</td>\n    </tr>\n  </tbody>\n</table>\n</div>"
     },
     "execution_count": 20,
     "metadata": {},
     "output_type": "execute_result"
    }
   ],
   "source": [
    "print(\"Ratings with item_id=267:\")\n",
    "ratings_df[ratings_df['item_id'] == 267]"
   ],
   "metadata": {
    "collapsed": false,
    "ExecuteTime": {
     "end_time": "2023-11-30T17:18:57.445992Z",
     "start_time": "2023-11-30T17:18:57.414669Z"
    }
   }
  },
  {
   "cell_type": "markdown",
   "source": [
    "This movie we will also remove from everywhere. **item_id = 267**. In the Ratings Dataframe, there are only 9 ratings for this movie."
   ],
   "metadata": {
    "collapsed": false
   }
  },
  {
   "cell_type": "code",
   "execution_count": 21,
   "outputs": [],
   "source": [
    "movies_df.drop(267, axis=0, inplace=True)"
   ],
   "metadata": {
    "collapsed": false,
    "ExecuteTime": {
     "end_time": "2023-11-30T17:18:57.446030Z",
     "start_time": "2023-11-30T17:18:57.420035Z"
    }
   }
  },
  {
   "cell_type": "code",
   "execution_count": 22,
   "outputs": [
    {
     "data": {
      "text/plain": "                       title release_date  unknown  action  adventure  \\\nitem_id                                                                 \n1373     Good Morning (1971)   4-Feb-1971        1       0          0   \n\n         animation  childrens  comedy  crime  documentary  ...  fantasy  \\\nitem_id                                                    ...            \n1373             0          0       0      0            0  ...        0   \n\n         film_noir  horror  musical  mystery  romance  sci_fi  thriller  war  \\\nitem_id                                                                        \n1373             0       0        0        0        0       0         0    0   \n\n         western  \nitem_id           \n1373           0  \n\n[1 rows x 21 columns]",
      "text/html": "<div>\n<style scoped>\n    .dataframe tbody tr th:only-of-type {\n        vertical-align: middle;\n    }\n\n    .dataframe tbody tr th {\n        vertical-align: top;\n    }\n\n    .dataframe thead th {\n        text-align: right;\n    }\n</style>\n<table border=\"1\" class=\"dataframe\">\n  <thead>\n    <tr style=\"text-align: right;\">\n      <th></th>\n      <th>title</th>\n      <th>release_date</th>\n      <th>unknown</th>\n      <th>action</th>\n      <th>adventure</th>\n      <th>animation</th>\n      <th>childrens</th>\n      <th>comedy</th>\n      <th>crime</th>\n      <th>documentary</th>\n      <th>...</th>\n      <th>fantasy</th>\n      <th>film_noir</th>\n      <th>horror</th>\n      <th>musical</th>\n      <th>mystery</th>\n      <th>romance</th>\n      <th>sci_fi</th>\n      <th>thriller</th>\n      <th>war</th>\n      <th>western</th>\n    </tr>\n    <tr>\n      <th>item_id</th>\n      <th></th>\n      <th></th>\n      <th></th>\n      <th></th>\n      <th></th>\n      <th></th>\n      <th></th>\n      <th></th>\n      <th></th>\n      <th></th>\n      <th></th>\n      <th></th>\n      <th></th>\n      <th></th>\n      <th></th>\n      <th></th>\n      <th></th>\n      <th></th>\n      <th></th>\n      <th></th>\n      <th></th>\n    </tr>\n  </thead>\n  <tbody>\n    <tr>\n      <th>1373</th>\n      <td>Good Morning (1971)</td>\n      <td>4-Feb-1971</td>\n      <td>1</td>\n      <td>0</td>\n      <td>0</td>\n      <td>0</td>\n      <td>0</td>\n      <td>0</td>\n      <td>0</td>\n      <td>0</td>\n      <td>...</td>\n      <td>0</td>\n      <td>0</td>\n      <td>0</td>\n      <td>0</td>\n      <td>0</td>\n      <td>0</td>\n      <td>0</td>\n      <td>0</td>\n      <td>0</td>\n      <td>0</td>\n    </tr>\n  </tbody>\n</table>\n<p>1 rows × 21 columns</p>\n</div>"
     },
     "execution_count": 22,
     "metadata": {},
     "output_type": "execute_result"
    }
   ],
   "source": [
    "movies_df[movies_df['unknown'] == 1]"
   ],
   "metadata": {
    "collapsed": false,
    "ExecuteTime": {
     "end_time": "2023-11-30T17:18:57.446105Z",
     "start_time": "2023-11-30T17:18:57.426242Z"
    }
   }
  },
  {
   "cell_type": "code",
   "execution_count": 23,
   "outputs": [
    {
     "name": "stdout",
     "output_type": "stream",
     "text": [
      "Ratings with item_id=1373:\n"
     ]
    },
    {
     "data": {
      "text/plain": "      user_id  item_id  rating  timestamp\n8567      181     1373       1  878962052",
      "text/html": "<div>\n<style scoped>\n    .dataframe tbody tr th:only-of-type {\n        vertical-align: middle;\n    }\n\n    .dataframe tbody tr th {\n        vertical-align: top;\n    }\n\n    .dataframe thead th {\n        text-align: right;\n    }\n</style>\n<table border=\"1\" class=\"dataframe\">\n  <thead>\n    <tr style=\"text-align: right;\">\n      <th></th>\n      <th>user_id</th>\n      <th>item_id</th>\n      <th>rating</th>\n      <th>timestamp</th>\n    </tr>\n  </thead>\n  <tbody>\n    <tr>\n      <th>8567</th>\n      <td>181</td>\n      <td>1373</td>\n      <td>1</td>\n      <td>878962052</td>\n    </tr>\n  </tbody>\n</table>\n</div>"
     },
     "execution_count": 23,
     "metadata": {},
     "output_type": "execute_result"
    }
   ],
   "source": [
    "print(\"Ratings with item_id=1373:\")\n",
    "ratings_df[ratings_df['item_id'] == 1373]"
   ],
   "metadata": {
    "collapsed": false,
    "ExecuteTime": {
     "end_time": "2023-11-30T17:18:57.446209Z",
     "start_time": "2023-11-30T17:18:57.428750Z"
    }
   }
  },
  {
   "cell_type": "markdown",
   "source": [
    "The movie with `unknown` genre can badly affect our recommender system. So, removing it :) **item_id = 1373**\n",
    "\n",
    "It also has only 1 rating."
   ],
   "metadata": {
    "collapsed": false
   }
  },
  {
   "cell_type": "code",
   "execution_count": 24,
   "outputs": [],
   "source": [
    "movies_df.drop(1373, axis=0, inplace=True)"
   ],
   "metadata": {
    "collapsed": false,
    "ExecuteTime": {
     "end_time": "2023-11-30T17:18:57.446245Z",
     "start_time": "2023-11-30T17:18:57.432926Z"
    }
   }
  },
  {
   "cell_type": "code",
   "execution_count": 25,
   "outputs": [],
   "source": [
    "movies_df.drop('unknown', axis=1, inplace=True)"
   ],
   "metadata": {
    "collapsed": false,
    "ExecuteTime": {
     "end_time": "2023-11-30T17:18:57.446281Z",
     "start_time": "2023-11-30T17:18:57.435807Z"
    }
   }
  },
  {
   "cell_type": "markdown",
   "source": [
    "### 2.2) Release Date Statistics"
   ],
   "metadata": {
    "collapsed": false
   }
  },
  {
   "cell_type": "code",
   "execution_count": 26,
   "outputs": [
    {
     "name": "stdout",
     "output_type": "stream",
     "text": [
      "Distribution of release dates:\n"
     ]
    },
    {
     "data": {
      "text/plain": "release_date\n01-Jan-1995    215\n01-Jan-1994    213\n01-Jan-1993    126\n01-Jan-1997     98\n01-Jan-1992     37\n              ... \n30-Nov-1996      1\n15-Mar-1996      1\n05-Oct-1996      1\n18-Dec-1995      1\n30-Apr-1997      1\nName: count, Length: 239, dtype: int64"
     },
     "execution_count": 26,
     "metadata": {},
     "output_type": "execute_result"
    }
   ],
   "source": [
    "print(\"Distribution of release dates:\")\n",
    "movies_df['release_date'].value_counts()"
   ],
   "metadata": {
    "collapsed": false,
    "ExecuteTime": {
     "end_time": "2023-11-30T17:18:57.446508Z",
     "start_time": "2023-11-30T17:18:57.439438Z"
    }
   }
  },
  {
   "cell_type": "markdown",
   "source": [
    "It's interesting to note that most of the releases were on 1'st January. Maybe it's a default date for movies with unknown release date."
   ],
   "metadata": {
    "collapsed": false
   }
  },
  {
   "cell_type": "code",
   "execution_count": 27,
   "outputs": [
    {
     "name": "stdout",
     "output_type": "stream",
     "text": [
      "Distribution of release years:\n"
     ]
    },
    {
     "data": {
      "text/plain": "release_date\n1996    355\n1997    286\n1995    219\n1994    214\n1993    126\n       ... \n1930      1\n1931      1\n1922      1\n1932      1\n1926      1\nName: count, Length: 71, dtype: int64"
     },
     "execution_count": 27,
     "metadata": {},
     "output_type": "execute_result"
    }
   ],
   "source": [
    "print(\"Distribution of release years:\")\n",
    "movies_df['release_date'].apply(lambda date: date.split('-')[-1]).value_counts()"
   ],
   "metadata": {
    "collapsed": false,
    "ExecuteTime": {
     "end_time": "2023-11-30T17:18:57.446636Z",
     "start_time": "2023-11-30T17:18:57.443881Z"
    }
   }
  },
  {
   "cell_type": "code",
   "execution_count": 28,
   "outputs": [
    {
     "name": "stdout",
     "output_type": "stream",
     "text": [
      "Distribution of release dates without year:\n"
     ]
    },
    {
     "data": {
      "text/plain": "release_date\n01-Jan    1097\n08-Mar      12\n10-May      11\n29-Mar      10\n02-May      10\n          ... \n26-Oct       1\n29-Jun       1\n31-Dec       1\n23-Apr       1\n30-Apr       1\nName: count, Length: 149, dtype: int64"
     },
     "execution_count": 28,
     "metadata": {},
     "output_type": "execute_result"
    }
   ],
   "source": [
    "print(\"Distribution of release dates without year:\")\n",
    "movies_df['release_date'].apply(lambda date: '-'.join(date.split('-')[:-1])).value_counts()"
   ],
   "metadata": {
    "collapsed": false,
    "ExecuteTime": {
     "end_time": "2023-11-30T17:18:57.451814Z",
     "start_time": "2023-11-30T17:18:57.448011Z"
    }
   }
  },
  {
   "cell_type": "markdown",
   "source": [
    "Here, we see that most of the movies were released(if we trust the data) on **1'st January**. Consequently, the **day-month** part of the date is not important for us. We will remove it and leave only **year**."
   ],
   "metadata": {
    "collapsed": false
   }
  },
  {
   "cell_type": "code",
   "execution_count": 29,
   "outputs": [],
   "source": [
    "movies_df['release_year'] = movies_df['release_date'].apply(lambda date: date.split('-')[-1])\n",
    "movies_df.drop('release_date', axis=1, inplace=True)"
   ],
   "metadata": {
    "collapsed": false,
    "ExecuteTime": {
     "end_time": "2023-11-30T17:18:57.455484Z",
     "start_time": "2023-11-30T17:18:57.453270Z"
    }
   }
  },
  {
   "cell_type": "markdown",
   "source": [
    "### 2.3) Genre Statistics"
   ],
   "metadata": {
    "collapsed": false
   }
  },
  {
   "cell_type": "code",
   "execution_count": 30,
   "outputs": [],
   "source": [
    "# Count the number of movies in each genre\n",
    "\n",
    "genre_count = movies_df.iloc[:, 1:-1].sum(axis=0)"
   ],
   "metadata": {
    "collapsed": false,
    "ExecuteTime": {
     "end_time": "2023-11-30T17:18:57.458800Z",
     "start_time": "2023-11-30T17:18:57.456714Z"
    }
   }
  },
  {
   "cell_type": "code",
   "execution_count": 31,
   "outputs": [
    {
     "data": {
      "text/plain": "<Figure size 2000x700 with 1 Axes>",
      "image/png": "[encoded data removed]"
     },
     "metadata": {},
     "output_type": "display_data"
    }
   ],
   "source": [
    "plt.figure(figsize=(20, 7))\n",
    "plt.bar(genre_count.index, genre_count.values)\n",
    "plt.title('Number of movies in each genre')\n",
    "plt.xlabel('Genre')\n",
    "plt.ylabel('Count')\n",
    "plt.show()"
   ],
   "metadata": {
    "collapsed": false,
    "ExecuteTime": {
     "end_time": "2023-11-30T17:18:57.566380Z",
     "start_time": "2023-11-30T17:18:57.459746Z"
    }
   }
  },
  {
   "cell_type": "markdown",
   "source": [
    "Also removing the **unknown** genre from the dataframe."
   ],
   "metadata": {
    "collapsed": false
   }
  },
  {
   "cell_type": "code",
   "execution_count": 32,
   "outputs": [],
   "source": [
    "genres_df.drop(0, axis=0, inplace=True)"
   ],
   "metadata": {
    "collapsed": false,
    "ExecuteTime": {
     "end_time": "2023-11-30T17:18:57.566522Z",
     "start_time": "2023-11-30T17:18:57.560704Z"
    }
   }
  },
  {
   "cell_type": "markdown",
   "source": [
    "## 3. Exploring the Ratings Dataframe"
   ],
   "metadata": {
    "collapsed": false
   }
  },
  {
   "cell_type": "code",
   "execution_count": 33,
   "outputs": [
    {
     "data": {
      "text/plain": "   user_id  item_id  rating  timestamp\n0      196      242       3  881250949\n1      186      302       3  891717742\n2       22      377       1  878887116\n3      244       51       2  880606923\n4      166      346       1  886397596",
      "text/html": "<div>\n<style scoped>\n    .dataframe tbody tr th:only-of-type {\n        vertical-align: middle;\n    }\n\n    .dataframe tbody tr th {\n        vertical-align: top;\n    }\n\n    .dataframe thead th {\n        text-align: right;\n    }\n</style>\n<table border=\"1\" class=\"dataframe\">\n  <thead>\n    <tr style=\"text-align: right;\">\n      <th></th>\n      <th>user_id</th>\n      <th>item_id</th>\n      <th>rating</th>\n      <th>timestamp</th>\n    </tr>\n  </thead>\n  <tbody>\n    <tr>\n      <th>0</th>\n      <td>196</td>\n      <td>242</td>\n      <td>3</td>\n      <td>881250949</td>\n    </tr>\n    <tr>\n      <th>1</th>\n      <td>186</td>\n      <td>302</td>\n      <td>3</td>\n      <td>891717742</td>\n    </tr>\n    <tr>\n      <th>2</th>\n      <td>22</td>\n      <td>377</td>\n      <td>1</td>\n      <td>878887116</td>\n    </tr>\n    <tr>\n      <th>3</th>\n      <td>244</td>\n      <td>51</td>\n      <td>2</td>\n      <td>880606923</td>\n    </tr>\n    <tr>\n      <th>4</th>\n      <td>166</td>\n      <td>346</td>\n      <td>1</td>\n      <td>886397596</td>\n    </tr>\n  </tbody>\n</table>\n</div>"
     },
     "execution_count": 33,
     "metadata": {},
     "output_type": "execute_result"
    }
   ],
   "source": [
    "ratings_df.head()"
   ],
   "metadata": {
    "collapsed": false,
    "ExecuteTime": {
     "end_time": "2023-11-30T17:18:57.571194Z",
     "start_time": "2023-11-30T17:18:57.568909Z"
    }
   }
  },
  {
   "cell_type": "code",
   "execution_count": 34,
   "outputs": [
    {
     "name": "stdout",
     "output_type": "stream",
     "text": [
      "<class 'pandas.core.frame.DataFrame'>\n",
      "RangeIndex: 100000 entries, 0 to 99999\n",
      "Data columns (total 4 columns):\n",
      " #   Column     Non-Null Count   Dtype\n",
      "---  ------     --------------   -----\n",
      " 0   user_id    100000 non-null  int64\n",
      " 1   item_id    100000 non-null  int64\n",
      " 2   rating     100000 non-null  int64\n",
      " 3   timestamp  100000 non-null  int64\n",
      "dtypes: int64(4)\n",
      "memory usage: 3.1 MB\n"
     ]
    }
   ],
   "source": [
    "ratings_df.info()"
   ],
   "metadata": {
    "collapsed": false,
    "ExecuteTime": {
     "end_time": "2023-11-30T17:18:57.576054Z",
     "start_time": "2023-11-30T17:18:57.572080Z"
    }
   }
  },
  {
   "cell_type": "markdown",
   "source": [
    "### 3.1) Removing films which we removed from the Movies Dataframe"
   ],
   "metadata": {
    "collapsed": false
   }
  },
  {
   "cell_type": "code",
   "execution_count": 35,
   "outputs": [],
   "source": [
    "ratings_df = ratings_df[ratings_df['item_id'] != 267]\n",
    "ratings_df = ratings_df[ratings_df['item_id'] != 1373]"
   ],
   "metadata": {
    "collapsed": false,
    "ExecuteTime": {
     "end_time": "2023-11-30T17:18:57.581346Z",
     "start_time": "2023-11-30T17:18:57.576471Z"
    }
   }
  },
  {
   "cell_type": "code",
   "execution_count": 36,
   "outputs": [
    {
     "name": "stdout",
     "output_type": "stream",
     "text": [
      "<class 'pandas.core.frame.DataFrame'>\n",
      "Index: 99990 entries, 0 to 99999\n",
      "Data columns (total 4 columns):\n",
      " #   Column     Non-Null Count  Dtype\n",
      "---  ------     --------------  -----\n",
      " 0   user_id    99990 non-null  int64\n",
      " 1   item_id    99990 non-null  int64\n",
      " 2   rating     99990 non-null  int64\n",
      " 3   timestamp  99990 non-null  int64\n",
      "dtypes: int64(4)\n",
      "memory usage: 3.8 MB\n"
     ]
    }
   ],
   "source": [
    "ratings_df.info()"
   ],
   "metadata": {
    "collapsed": false,
    "ExecuteTime": {
     "end_time": "2023-11-30T17:18:57.585841Z",
     "start_time": "2023-11-30T17:18:57.581925Z"
    }
   }
  },
  {
   "cell_type": "markdown",
   "source": [
    "Checking that we still have the same amount of users:"
   ],
   "metadata": {
    "collapsed": false
   }
  },
  {
   "cell_type": "code",
   "execution_count": 37,
   "outputs": [
    {
     "data": {
      "text/plain": "943"
     },
     "execution_count": 37,
     "metadata": {},
     "output_type": "execute_result"
    }
   ],
   "source": [
    "ratings_df['user_id'].nunique()"
   ],
   "metadata": {
    "collapsed": false,
    "ExecuteTime": {
     "end_time": "2023-11-30T17:18:57.673848Z",
     "start_time": "2023-11-30T17:18:57.586375Z"
    }
   }
  },
  {
   "cell_type": "markdown",
   "source": [
    "### 3.2) Rating Statistics"
   ],
   "metadata": {
    "collapsed": false
   }
  },
  {
   "cell_type": "code",
   "execution_count": 38,
   "outputs": [
    {
     "data": {
      "text/plain": "count    99990.000000\nmean         3.529893\nstd          1.125656\nmin          1.000000\n25%          3.000000\n50%          4.000000\n75%          4.000000\nmax          5.000000\nName: rating, dtype: float64"
     },
     "execution_count": 38,
     "metadata": {},
     "output_type": "execute_result"
    }
   ],
   "source": [
    "ratings_df['rating'].describe()"
   ],
   "metadata": {
    "collapsed": false,
    "ExecuteTime": {
     "end_time": "2023-11-30T17:18:57.674014Z",
     "start_time": "2023-11-30T17:18:57.590027Z"
    }
   }
  },
  {
   "cell_type": "code",
   "execution_count": 39,
   "outputs": [
    {
     "data": {
      "text/plain": "<Figure size 700x500 with 1 Axes>",
      "image/png": "[encoded data removed]"
     },
     "metadata": {},
     "output_type": "display_data"
    }
   ],
   "source": [
    "plt.figure(figsize=(7, 5))\n",
    "plt.hist(ratings_df['rating'], bins=5)\n",
    "plt.title('Rating Distribution')\n",
    "plt.xlabel('Rating')\n",
    "plt.ylabel('Count')\n",
    "plt.show()"
   ],
   "metadata": {
    "collapsed": false,
    "ExecuteTime": {
     "end_time": "2023-11-30T17:18:57.674135Z",
     "start_time": "2023-11-30T17:18:57.601535Z"
    }
   }
  },
  {
   "cell_type": "code",
   "execution_count": 40,
   "outputs": [
    {
     "name": "stdout",
     "output_type": "stream",
     "text": [
      "Average number of ratings per user: 106.033934252386\n"
     ]
    }
   ],
   "source": [
    "print(\"Average number of ratings per user:\", ratings_df.groupby('user_id')['rating'].count().mean())"
   ],
   "metadata": {
    "collapsed": false,
    "ExecuteTime": {
     "end_time": "2023-11-30T17:18:57.674330Z",
     "start_time": "2023-11-30T17:18:57.662299Z"
    }
   }
  },
  {
   "cell_type": "markdown",
   "source": [
    "## Saving the Cleaned Versions of Dataframes"
   ],
   "metadata": {
    "collapsed": false
   }
  },
  {
   "cell_type": "code",
   "execution_count": 41,
   "outputs": [],
   "source": [
    "ratings_df.to_csv('../data/interim/ratings.csv', index=False)"
   ],
   "metadata": {
    "collapsed": false,
    "ExecuteTime": {
     "end_time": "2023-11-30T17:18:57.740828Z",
     "start_time": "2023-11-30T17:18:57.665764Z"
    }
   }
  },
  {
   "cell_type": "code",
   "execution_count": 42,
   "outputs": [],
   "source": [
    "movies_df.to_csv('../data/interim/movies.csv')"
   ],
   "metadata": {
    "collapsed": false,
    "ExecuteTime": {
     "end_time": "2023-11-30T17:18:57.741441Z",
     "start_time": "2023-11-30T17:18:57.734240Z"
    }
   }
  },
  {
   "cell_type": "code",
   "execution_count": 43,
   "outputs": [],
   "source": [
    "users_df.to_csv('../data/interim/users.csv')"
   ],
   "metadata": {
    "collapsed": false,
    "ExecuteTime": {
     "end_time": "2023-11-30T17:18:57.756041Z",
     "start_time": "2023-11-30T17:18:57.741767Z"
    }
   }
  },
  {
   "cell_type": "code",
   "execution_count": 44,
   "outputs": [],
   "source": [
    "genres_df.to_csv('../data/interim/genres.csv')"
   ],
   "metadata": {
    "collapsed": false,
    "ExecuteTime": {
     "end_time": "2023-11-30T17:18:57.756237Z",
     "start_time": "2023-11-30T17:18:57.746142Z"
    }
   }
  },
  {
   "cell_type": "code",
   "execution_count": 45,
   "outputs": [],
   "source": [
    "occupations_df.to_csv('../data/interim/occupations.csv', index=False)"
   ],
   "metadata": {
    "collapsed": false,
    "ExecuteTime": {
     "end_time": "2023-11-30T17:18:57.756284Z",
     "start_time": "2023-11-30T17:18:57.749669Z"
    }
   }
  },
  {
   "cell_type": "code",
   "execution_count": 46,
   "outputs": [],
   "source": [
    "info_df.to_csv('../data/interim/info.csv', index=False)"
   ],
   "metadata": {
    "collapsed": false,
    "ExecuteTime": {
     "end_time": "2023-11-30T17:18:57.756392Z",
     "start_time": "2023-11-30T17:18:57.753274Z"
    }
   }
  }
 ],
 "metadata": {
  "kernelspec": {
   "display_name": "Python 3",
   "language": "python",
   "name": "python3"
  },
  "language_info": {
   "codemirror_mode": {
    "name": "ipython",
    "version": 2
   },
   "file_extension": ".py",
   "mimetype": "text/x-python",
   "name": "python",
   "nbconvert_exporter": "python",
   "pygments_lexer": "ipython2",
   "version": "2.7.6"
  }
 },
 "nbformat": 4,
 "nbformat_minor": 0
}
